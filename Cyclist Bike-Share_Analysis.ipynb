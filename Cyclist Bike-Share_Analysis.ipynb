{
 "cells": [
  {
   "cell_type": "markdown",
   "metadata": {},
   "source": [
    "# Case Study: How Does a Bike-Share Navigate Speedy Success\n"
   ]
  },
  {
   "cell_type": "markdown",
   "metadata": {},
   "source": [
    "## Table of Content\n",
    "1. Introduction\n",
    "2. Data Loading and Quality\n",
    "3. Feature Additions and Engineering\n",
    "4. Exploratory Data Analysis and Statistical Analysis\n",
    "5. Final Recommendations"
   ]
  },
  {
   "cell_type": "markdown",
   "metadata": {},
   "source": [
    "## 1. Overview\n",
    "\n",
    "I am a junior data analyst working in the marketing analyst team at Cyclistic, a bike-share company in Chicago. The director of marketing believes the company’s future success depends on maximizing the number of annual memberships. I am tasked to understand how casual riders and annual members use Cyclistic bikes differently. From these insights, your team will design a new marketing strategy to convert casual riders into annual members. But first, Cyclistic executives must approve your recommendations, so they must be backed up with compelling data insights and professional data visualizations.\n",
    "\n",
    "In 2016, Cyclistic launched a successful bike-share offering. Since then, the program has grown to a fleet of 5,824 bicycles that are geotracked and locked into a network of 692 stations across Chicago. The bikes can be unlocked from one station and returned to any other station in the system anytime.\n",
    "\n",
    "## Background\n",
    "\n",
    "In 2016, Cyclistic launched a successful bike-share offering. Since then, the program has grown to a fleet of 5,824 bicycles that are geo-tracked and locked into a network of 692 stations across Chicago.\n",
    "\n",
    "Until now, Cyclistic’s marketing strategy relied on building general awareness and appealing to broad consumer segments. One approach that helped make these things possible was the flexibility of its pricing plans: single-ride passes, full-day passes, and annual memberships. Customers who purchase single-ride or full-day passes are referred to as casual riders. Customers who purchase annual memberships are Cyclistic members.\n",
    "\n",
    "### Business Model:\n",
    "\n",
    "1. Product: bike-sharing geotracked and network locked bikes across Chicago\n",
    "2. Customer types and revenue model: members (annual subscribers) and casual riders (single-ride and full-day purchasers)\n",
    "3. Competitive advantages: Bicycle variety (broad consumer segments) and pricing flexibility\n",
    "\n",
    "## Stake Holders and Expectations\n",
    "\n",
    "Cyclistic Executive Team:\tCompelling, relevant, and straightforward insights to inform data-driven marketing decisions\tImplementing strategic initiatives to promote business growth\n",
    "\n",
    "Lily Moreno, Director of Marketing:\tEvidence to back up her theory and marketing recommendations\tConvert a sizable group of casual riders to become annual members.\n",
    "\n",
    "Marketing analytics team:\tUncovering the differences and motivations behind different customer types\tProduce data-driven and actionable results to inform business decision making\n",
    "\n",
    "cyclist users:\n",
    "\n",
    "## Problem Statement\n",
    "\n",
    "Cyclistic is faced with an uncertain future and is no longer able to solely rely on its traditional marketing strategies of raising general awareness and appealing to a variety of customer needs. In the interest of company growth, the director of marketing believes that Cyclistic should capitalize on the lucrative profit margins of annual subscribers by marketing to existing casual customers and persuading them to become yearly subscribers. If that strategy is plausible, a well-executed marketing campaign may lead to more sustainable long-term revenue. To that end, we need to analyze how and why Cyclistic casual bikers and members differ to weigh any evidence, opportunities, and barriers to any future marketing strategy.\n",
    "\n",
    "## Case study\n",
    "This report will examine the business question: 'what is the most effective marketing strategy to converting Cyclistic’s casual riders to annul memberships?'\n",
    "\n",
    "It is understood that the goal can be broken down into 3 main questions.\n",
    "\n",
    "How do annual members and casual riders use Cyclistic bikes differently?\n",
    "Why would casual riders buy Cyclistic annual memberships?\n",
    "How can Cyclistic use digital media to influence casual riders to become members?\n",
    "This report will seek to deliver on the following objectives:\n",
    "\n",
    "How do annual members and casual riders use Cyclistic bikes differently?\n",
    "\n",
    "## Data sources\n",
    "User data from the past 12 months, January 2021 - December 2021 has been made available. Each data set is in csv format and details every ride logged by Cyclistic customers. This data has been made publicly available via license by Motivate International Inc. and the city of Chicago available here. All user’s personal data has been scrubbed for privacy.\n",
    "\n",
    "\n",
    "## Tools for analysis\n",
    "Python is being used due to the data size and visualizations needed to complete this analysis.\n"
   ]
  },
  {
   "cell_type": "markdown",
   "metadata": {},
   "source": [
    "## 2. Data Loading and Quality Checks"
   ]
  },
  {
   "cell_type": "markdown",
   "metadata": {},
   "source": [
    "## Import Data: \n",
    "\n",
    "This first part of the project is to preparing data, meaning its in the right place or format to conduct your analysis.The first step of the analysis is to import raw data and clean it. Data comes in 12 csv files.\n",
    "\n",
    "### Set Up: Library Modules"
   ]
  },
  {
   "cell_type": "code",
   "execution_count": 1,
   "metadata": {},
   "outputs": [],
   "source": [
    "import pandas as pd\n",
    "import numpy as np\n",
    "import seaborn as sns\n",
    "import matplotlib.pyplot as plt\n",
    "import plotly.express as px\n",
    "import glob\n",
    "import os\n",
    "import datetime\n",
    "from datetime import datetime\n",
    "import matplotlib.ticker as mtick\n",
    "import matplotlib.patheffects as path_effects\n",
    "\n",
    "%matplotlib notebook\n",
    "%matplotlib inline\n",
    "%reload_ext autoreload\n",
    "%autoreload 2"
   ]
  },
  {
   "cell_type": "markdown",
   "metadata": {},
   "source": [
    "### Read CSV Files DataFrames & Concatenate \n",
    "This first part of the project is to preparing data, meaning its in the right place or format to conduct your analysis.The first step of the analysis is to import raw data and clean it. Data comes in 12 csv files."
   ]
  },
  {
   "cell_type": "code",
   "execution_count": 2,
   "metadata": {},
   "outputs": [],
   "source": [
    "# Get CSV files list from a folder\n",
    "path = r'/Users/phoebenamyalo/Desktop/Google Portfolio Project/trip_data_csvs/' # target folder\n",
    "csv_files = glob.glob(path + \"/*.csv\")\n",
    "\n",
    "# Read each CSV file into DataFrame\n",
    "# This creates a list of dataframes\n",
    "df_list = (pd.read_csv(file) for file in csv_files)\n",
    "\n",
    "# Concatenate all DataFrames\n",
    "df = pd.concat(df_list, ignore_index=True)"
   ]
  },
  {
   "cell_type": "markdown",
   "metadata": {},
   "source": [
    "### Data preview\n",
    "Let's look at the first 5 rows of the data frame (df) to see what we need for further analysis"
   ]
  },
  {
   "cell_type": "code",
   "execution_count": 3,
   "metadata": {},
   "outputs": [
    {
     "data": {
      "text/html": [
       "<div>\n",
       "<style scoped>\n",
       "    .dataframe tbody tr th:only-of-type {\n",
       "        vertical-align: middle;\n",
       "    }\n",
       "\n",
       "    .dataframe tbody tr th {\n",
       "        vertical-align: top;\n",
       "    }\n",
       "\n",
       "    .dataframe thead th {\n",
       "        text-align: right;\n",
       "    }\n",
       "</style>\n",
       "<table border=\"1\" class=\"dataframe\">\n",
       "  <thead>\n",
       "    <tr style=\"text-align: right;\">\n",
       "      <th></th>\n",
       "      <th>ride_id</th>\n",
       "      <th>rideable_type</th>\n",
       "      <th>started_at</th>\n",
       "      <th>ended_at</th>\n",
       "      <th>start_station_name</th>\n",
       "      <th>start_station_id</th>\n",
       "      <th>end_station_name</th>\n",
       "      <th>end_station_id</th>\n",
       "      <th>start_lat</th>\n",
       "      <th>start_lng</th>\n",
       "      <th>end_lat</th>\n",
       "      <th>end_lng</th>\n",
       "      <th>member_casual</th>\n",
       "    </tr>\n",
       "  </thead>\n",
       "  <tbody>\n",
       "    <tr>\n",
       "      <th>0</th>\n",
       "      <td>550CF7EFEAE0C618</td>\n",
       "      <td>electric_bike</td>\n",
       "      <td>2022-08-07 21:34:15</td>\n",
       "      <td>2022-08-07 21:41:46</td>\n",
       "      <td>NaN</td>\n",
       "      <td>NaN</td>\n",
       "      <td>NaN</td>\n",
       "      <td>NaN</td>\n",
       "      <td>41.93</td>\n",
       "      <td>-87.69</td>\n",
       "      <td>41.94</td>\n",
       "      <td>-87.72</td>\n",
       "      <td>casual</td>\n",
       "    </tr>\n",
       "    <tr>\n",
       "      <th>1</th>\n",
       "      <td>DAD198F405F9C5F5</td>\n",
       "      <td>electric_bike</td>\n",
       "      <td>2022-08-08 14:39:21</td>\n",
       "      <td>2022-08-08 14:53:23</td>\n",
       "      <td>NaN</td>\n",
       "      <td>NaN</td>\n",
       "      <td>NaN</td>\n",
       "      <td>NaN</td>\n",
       "      <td>41.89</td>\n",
       "      <td>-87.64</td>\n",
       "      <td>41.92</td>\n",
       "      <td>-87.64</td>\n",
       "      <td>casual</td>\n",
       "    </tr>\n",
       "    <tr>\n",
       "      <th>2</th>\n",
       "      <td>E6F2BC47B65CB7FD</td>\n",
       "      <td>electric_bike</td>\n",
       "      <td>2022-08-08 15:29:50</td>\n",
       "      <td>2022-08-08 15:40:34</td>\n",
       "      <td>NaN</td>\n",
       "      <td>NaN</td>\n",
       "      <td>NaN</td>\n",
       "      <td>NaN</td>\n",
       "      <td>41.97</td>\n",
       "      <td>-87.69</td>\n",
       "      <td>41.97</td>\n",
       "      <td>-87.66</td>\n",
       "      <td>casual</td>\n",
       "    </tr>\n",
       "    <tr>\n",
       "      <th>3</th>\n",
       "      <td>F597830181C2E13C</td>\n",
       "      <td>electric_bike</td>\n",
       "      <td>2022-08-08 02:43:50</td>\n",
       "      <td>2022-08-08 02:58:53</td>\n",
       "      <td>NaN</td>\n",
       "      <td>NaN</td>\n",
       "      <td>NaN</td>\n",
       "      <td>NaN</td>\n",
       "      <td>41.94</td>\n",
       "      <td>-87.65</td>\n",
       "      <td>41.97</td>\n",
       "      <td>-87.69</td>\n",
       "      <td>casual</td>\n",
       "    </tr>\n",
       "    <tr>\n",
       "      <th>4</th>\n",
       "      <td>0CE689BB4E313E8D</td>\n",
       "      <td>electric_bike</td>\n",
       "      <td>2022-08-07 20:24:06</td>\n",
       "      <td>2022-08-07 20:29:58</td>\n",
       "      <td>NaN</td>\n",
       "      <td>NaN</td>\n",
       "      <td>NaN</td>\n",
       "      <td>NaN</td>\n",
       "      <td>41.85</td>\n",
       "      <td>-87.65</td>\n",
       "      <td>41.84</td>\n",
       "      <td>-87.66</td>\n",
       "      <td>casual</td>\n",
       "    </tr>\n",
       "  </tbody>\n",
       "</table>\n",
       "</div>"
      ],
      "text/plain": [
       "            ride_id  rideable_type           started_at             ended_at  \\\n",
       "0  550CF7EFEAE0C618  electric_bike  2022-08-07 21:34:15  2022-08-07 21:41:46   \n",
       "1  DAD198F405F9C5F5  electric_bike  2022-08-08 14:39:21  2022-08-08 14:53:23   \n",
       "2  E6F2BC47B65CB7FD  electric_bike  2022-08-08 15:29:50  2022-08-08 15:40:34   \n",
       "3  F597830181C2E13C  electric_bike  2022-08-08 02:43:50  2022-08-08 02:58:53   \n",
       "4  0CE689BB4E313E8D  electric_bike  2022-08-07 20:24:06  2022-08-07 20:29:58   \n",
       "\n",
       "  start_station_name start_station_id end_station_name end_station_id  \\\n",
       "0                NaN              NaN              NaN            NaN   \n",
       "1                NaN              NaN              NaN            NaN   \n",
       "2                NaN              NaN              NaN            NaN   \n",
       "3                NaN              NaN              NaN            NaN   \n",
       "4                NaN              NaN              NaN            NaN   \n",
       "\n",
       "   start_lat  start_lng  end_lat  end_lng member_casual  \n",
       "0      41.93     -87.69    41.94   -87.72        casual  \n",
       "1      41.89     -87.64    41.92   -87.64        casual  \n",
       "2      41.97     -87.69    41.97   -87.66        casual  \n",
       "3      41.94     -87.65    41.97   -87.69        casual  \n",
       "4      41.85     -87.65    41.84   -87.66        casual  "
      ]
     },
     "execution_count": 3,
     "metadata": {},
     "output_type": "execute_result"
    }
   ],
   "source": [
    "df.head()"
   ]
  },
  {
   "cell_type": "markdown",
   "metadata": {},
   "source": [
    "\n",
    "\n",
    "## Data Cleaning:\n",
    "\n",
    "Now that data is in a dataframe, it is time to inspect them to see if it needs any cleaning. I inspect the dataframe by looking at it's shape attributes and use info method to see the data types and the number of missing values."
   ]
  },
  {
   "cell_type": "code",
   "execution_count": 4,
   "metadata": {},
   "outputs": [
    {
     "data": {
      "text/plain": [
       "(5829084, 13)"
      ]
     },
     "execution_count": 4,
     "metadata": {},
     "output_type": "execute_result"
    }
   ],
   "source": [
    "# Inspect shape of 'df' dataframe\n",
    "df.shape"
   ]
  },
  {
   "cell_type": "code",
   "execution_count": 5,
   "metadata": {},
   "outputs": [
    {
     "name": "stdout",
     "output_type": "stream",
     "text": [
      "<class 'pandas.core.frame.DataFrame'>\n",
      "RangeIndex: 5829084 entries, 0 to 5829083\n",
      "Data columns (total 13 columns):\n",
      " #   Column              Dtype  \n",
      "---  ------              -----  \n",
      " 0   ride_id             object \n",
      " 1   rideable_type       object \n",
      " 2   started_at          object \n",
      " 3   ended_at            object \n",
      " 4   start_station_name  object \n",
      " 5   start_station_id    object \n",
      " 6   end_station_name    object \n",
      " 7   end_station_id      object \n",
      " 8   start_lat           float64\n",
      " 9   start_lng           float64\n",
      " 10  end_lat             float64\n",
      " 11  end_lng             float64\n",
      " 12  member_casual       object \n",
      "dtypes: float64(4), object(9)\n",
      "memory usage: 578.1+ MB\n"
     ]
    }
   ],
   "source": [
    "#check for missing values and data types\n",
    "df.info()"
   ]
  },
  {
   "cell_type": "markdown",
   "metadata": {},
   "source": [
    "The dataset has 5829084 rows and 13 columns worth of data. There are a couple of problems. The 'started_at' & 'ended_at' strings instead of datetime columns. The 'rideable_type', & 'member_casual' are categorical values. From the look, there are also missing values but will explore that further in the analysis as we go."
   ]
  },
  {
   "cell_type": "code",
   "execution_count": 6,
   "metadata": {},
   "outputs": [],
   "source": [
    "# let's convert these low unique count columns into categories\n",
    "df['rideable_type'] = df['rideable_type'].astype('category')\n",
    "df['member_casual'] = df['member_casual'].astype('category')\n",
    "\n",
    "# convert to 'started_at' & 'ended_at' to datetime col\n",
    "df['started_at'] = pd.to_datetime(df['started_at'],format = \"%Y/%m/%d %H:%M:%S\")\n",
    "df['ended_at'] = pd.to_datetime(df['ended_at'],format = \"%Y/%m/%d %H:%M:%S\")\n"
   ]
  },
  {
   "cell_type": "code",
   "execution_count": 7,
   "metadata": {},
   "outputs": [
    {
     "data": {
      "text/plain": [
       "ride_id                    0\n",
       "rideable_type              0\n",
       "started_at                 0\n",
       "ended_at                   0\n",
       "start_station_name    850418\n",
       "start_station_id      850550\n",
       "end_station_name      909038\n",
       "end_station_id        909179\n",
       "start_lat                  0\n",
       "start_lng                  0\n",
       "end_lat                 5938\n",
       "end_lng                 5938\n",
       "member_casual              0\n",
       "dtype: int64"
      ]
     },
     "execution_count": 7,
     "metadata": {},
     "output_type": "execute_result"
    }
   ],
   "source": [
    "# check for missing values\n",
    "df.isna().sum()"
   ]
  },
  {
   "cell_type": "markdown",
   "metadata": {},
   "source": [
    "We want every station to have latitude and longitude data. Therefore will delete rows with missing cordinates"
   ]
  },
  {
   "cell_type": "code",
   "execution_count": 8,
   "metadata": {},
   "outputs": [],
   "source": [
    "# remove missing values without lat & lat\n",
    "df = df.loc[df['end_lat'].notnull() & df['end_lng'].notnull()]"
   ]
  },
  {
   "cell_type": "code",
   "execution_count": 9,
   "metadata": {},
   "outputs": [
    {
     "data": {
      "text/html": [
       "<div>\n",
       "<style scoped>\n",
       "    .dataframe tbody tr th:only-of-type {\n",
       "        vertical-align: middle;\n",
       "    }\n",
       "\n",
       "    .dataframe tbody tr th {\n",
       "        vertical-align: top;\n",
       "    }\n",
       "\n",
       "    .dataframe thead th {\n",
       "        text-align: right;\n",
       "    }\n",
       "</style>\n",
       "<table border=\"1\" class=\"dataframe\">\n",
       "  <thead>\n",
       "    <tr style=\"text-align: right;\">\n",
       "      <th></th>\n",
       "      <th>ride_id</th>\n",
       "      <th>rideable_type</th>\n",
       "      <th>started_at</th>\n",
       "      <th>ended_at</th>\n",
       "      <th>start_station_name</th>\n",
       "      <th>start_station_id</th>\n",
       "      <th>end_station_name</th>\n",
       "      <th>end_station_id</th>\n",
       "      <th>start_lat</th>\n",
       "      <th>start_lng</th>\n",
       "      <th>end_lat</th>\n",
       "      <th>end_lng</th>\n",
       "      <th>member_casual</th>\n",
       "    </tr>\n",
       "  </thead>\n",
       "  <tbody>\n",
       "    <tr>\n",
       "      <th>0</th>\n",
       "      <td>550CF7EFEAE0C618</td>\n",
       "      <td>electric_bike</td>\n",
       "      <td>2022-08-07 21:34:15</td>\n",
       "      <td>2022-08-07 21:41:46</td>\n",
       "      <td>NaN</td>\n",
       "      <td>NaN</td>\n",
       "      <td>NaN</td>\n",
       "      <td>NaN</td>\n",
       "      <td>41.93</td>\n",
       "      <td>-87.69</td>\n",
       "      <td>41.94</td>\n",
       "      <td>-87.72</td>\n",
       "      <td>casual</td>\n",
       "    </tr>\n",
       "    <tr>\n",
       "      <th>1</th>\n",
       "      <td>DAD198F405F9C5F5</td>\n",
       "      <td>electric_bike</td>\n",
       "      <td>2022-08-08 14:39:21</td>\n",
       "      <td>2022-08-08 14:53:23</td>\n",
       "      <td>NaN</td>\n",
       "      <td>NaN</td>\n",
       "      <td>NaN</td>\n",
       "      <td>NaN</td>\n",
       "      <td>41.89</td>\n",
       "      <td>-87.64</td>\n",
       "      <td>41.92</td>\n",
       "      <td>-87.64</td>\n",
       "      <td>casual</td>\n",
       "    </tr>\n",
       "    <tr>\n",
       "      <th>2</th>\n",
       "      <td>E6F2BC47B65CB7FD</td>\n",
       "      <td>electric_bike</td>\n",
       "      <td>2022-08-08 15:29:50</td>\n",
       "      <td>2022-08-08 15:40:34</td>\n",
       "      <td>NaN</td>\n",
       "      <td>NaN</td>\n",
       "      <td>NaN</td>\n",
       "      <td>NaN</td>\n",
       "      <td>41.97</td>\n",
       "      <td>-87.69</td>\n",
       "      <td>41.97</td>\n",
       "      <td>-87.66</td>\n",
       "      <td>casual</td>\n",
       "    </tr>\n",
       "    <tr>\n",
       "      <th>3</th>\n",
       "      <td>F597830181C2E13C</td>\n",
       "      <td>electric_bike</td>\n",
       "      <td>2022-08-08 02:43:50</td>\n",
       "      <td>2022-08-08 02:58:53</td>\n",
       "      <td>NaN</td>\n",
       "      <td>NaN</td>\n",
       "      <td>NaN</td>\n",
       "      <td>NaN</td>\n",
       "      <td>41.94</td>\n",
       "      <td>-87.65</td>\n",
       "      <td>41.97</td>\n",
       "      <td>-87.69</td>\n",
       "      <td>casual</td>\n",
       "    </tr>\n",
       "    <tr>\n",
       "      <th>4</th>\n",
       "      <td>0CE689BB4E313E8D</td>\n",
       "      <td>electric_bike</td>\n",
       "      <td>2022-08-07 20:24:06</td>\n",
       "      <td>2022-08-07 20:29:58</td>\n",
       "      <td>NaN</td>\n",
       "      <td>NaN</td>\n",
       "      <td>NaN</td>\n",
       "      <td>NaN</td>\n",
       "      <td>41.85</td>\n",
       "      <td>-87.65</td>\n",
       "      <td>41.84</td>\n",
       "      <td>-87.66</td>\n",
       "      <td>casual</td>\n",
       "    </tr>\n",
       "  </tbody>\n",
       "</table>\n",
       "</div>"
      ],
      "text/plain": [
       "            ride_id  rideable_type          started_at            ended_at  \\\n",
       "0  550CF7EFEAE0C618  electric_bike 2022-08-07 21:34:15 2022-08-07 21:41:46   \n",
       "1  DAD198F405F9C5F5  electric_bike 2022-08-08 14:39:21 2022-08-08 14:53:23   \n",
       "2  E6F2BC47B65CB7FD  electric_bike 2022-08-08 15:29:50 2022-08-08 15:40:34   \n",
       "3  F597830181C2E13C  electric_bike 2022-08-08 02:43:50 2022-08-08 02:58:53   \n",
       "4  0CE689BB4E313E8D  electric_bike 2022-08-07 20:24:06 2022-08-07 20:29:58   \n",
       "\n",
       "  start_station_name start_station_id end_station_name end_station_id  \\\n",
       "0                NaN              NaN              NaN            NaN   \n",
       "1                NaN              NaN              NaN            NaN   \n",
       "2                NaN              NaN              NaN            NaN   \n",
       "3                NaN              NaN              NaN            NaN   \n",
       "4                NaN              NaN              NaN            NaN   \n",
       "\n",
       "   start_lat  start_lng  end_lat  end_lng member_casual  \n",
       "0      41.93     -87.69    41.94   -87.72        casual  \n",
       "1      41.89     -87.64    41.92   -87.64        casual  \n",
       "2      41.97     -87.69    41.97   -87.66        casual  \n",
       "3      41.94     -87.65    41.97   -87.69        casual  \n",
       "4      41.85     -87.65    41.84   -87.66        casual  "
      ]
     },
     "execution_count": 9,
     "metadata": {},
     "output_type": "execute_result"
    }
   ],
   "source": [
    "# explore remaining null values\n",
    "df[df.isna().any(axis=1)].head()"
   ]
  },
  {
   "cell_type": "markdown",
   "metadata": {},
   "source": [
    "Stations with missing station_id also have missing start_station_name and end_station which is to be expected.\n",
    "However they all have ride_id and latitude and longtitude values which makes this data valid.This could possible mean Station locations should be hard to reach and service. They might have inadequate sun exposure, hence low number of riders using these locations.\n",
    "\n",
    "We could either delete these rows or use inference with GPS coordinates to fill in the station names and IDs. \n",
    "However using inference with the GPS coordinates would be incredibly problematic with the variance of GPS coordinates, and the proximity of each station. \n",
    "\n",
    "Another thing to consider is that these missing values only comprise 10% of our primary dataset. We can still make good use of the rest of the dataset without compromising our findings since the other 90% will be more than enough to accurately represent consumer behaviors from both Casuals and Members.\n",
    "\n",
    "So let's drop any rows with missing station names or station ids."
   ]
  },
  {
   "cell_type": "code",
   "execution_count": 10,
   "metadata": {},
   "outputs": [
    {
     "data": {
      "text/plain": [
       "ride_id               0\n",
       "rideable_type         0\n",
       "started_at            0\n",
       "ended_at              0\n",
       "start_station_name    0\n",
       "start_station_id      0\n",
       "end_station_name      0\n",
       "end_station_id        0\n",
       "start_lat             0\n",
       "start_lng             0\n",
       "end_lat               0\n",
       "end_lng               0\n",
       "member_casual         0\n",
       "dtype: int64"
      ]
     },
     "execution_count": 10,
     "metadata": {},
     "output_type": "execute_result"
    }
   ],
   "source": [
    "# drop all rows with missing values\n",
    "df.dropna(inplace=True)\n",
    "df.isna().sum()"
   ]
  },
  {
   "cell_type": "markdown",
   "metadata": {},
   "source": [
    "### Checking for duplicates"
   ]
  },
  {
   "cell_type": "code",
   "execution_count": 11,
   "metadata": {},
   "outputs": [
    {
     "name": "stdout",
     "output_type": "stream",
     "text": [
      "Unique values per column\n",
      "ride_id: 4497898\n",
      "rideable_type: 3\n",
      "started_at: 3899447\n",
      "ended_at: 3913131\n",
      "start_station_name: 1576\n",
      "start_station_id: 1273\n",
      "end_station_name: 1620\n",
      "end_station_id: 1283\n",
      "start_lat: 620657\n",
      "start_lng: 585860\n",
      "end_lat: 1399\n",
      "end_lng: 1390\n",
      "member_casual: 2\n"
     ]
    }
   ],
   "source": [
    "# checking the number of unique values per column\n",
    "print(\"Unique values per column\")\n",
    "for col in df.columns:\n",
    "    print(f\"{col}: {df[col].nunique()}\")"
   ]
  },
  {
   "cell_type": "code",
   "execution_count": 12,
   "metadata": {},
   "outputs": [
    {
     "data": {
      "text/plain": [
       "(4497898, 13)"
      ]
     },
     "execution_count": 12,
     "metadata": {},
     "output_type": "execute_result"
    }
   ],
   "source": [
    "df.shape"
   ]
  },
  {
   "cell_type": "markdown",
   "metadata": {},
   "source": [
    "\"rideable_type\" and \"member_casual\" could benefit from a more efficient data type since they both have a limited number of unique values\n",
    "\"ride_id\", presumably the intended primary key of this table, clearly has duplicates since the number of unique values does not conform to the data frame's size\n",
    "There are more station names than station ids, which implies that many station names are associated with multiple station IDs\n"
   ]
  },
  {
   "cell_type": "code",
   "execution_count": 13,
   "metadata": {},
   "outputs": [
    {
     "name": "stdout",
     "output_type": "stream",
     "text": [
      "Duplicate Rows based on a ride_id are:\n",
      "Empty DataFrame\n",
      "Columns: [ride_id, rideable_type, started_at, ended_at, start_station_name, start_station_id, end_station_name, end_station_id, start_lat, start_lng, end_lat, end_lng, member_casual]\n",
      "Index: []\n"
     ]
    }
   ],
   "source": [
    "# Select all duplicate rows based on one column\n",
    "duplicates = df[df.duplicated(['ride_id'])]\n",
    "print(\"Duplicate Rows based on a ride_id are:\", duplicates, sep='\\n')"
   ]
  },
  {
   "cell_type": "markdown",
   "metadata": {},
   "source": [
    "## 3. Feature Additions and Engineering\n",
    "\n",
    "We'll add important columns to assist us in our analysis phase.\n",
    "\n",
    "1. \"ride_length\": the length of each ride in minute format\n",
    "2. \"start_day_of_week\": the day of the week when the bike was picked up (0 = Monday, 6 = Sunday)\n",
    "3. \"end_day_of_week\": the day of the week when the bike was dropped off (0 = Monday, 6 = Sunday)\n",
    "4. \"distance\": the great circle distance between the start and end station"
   ]
  },
  {
   "cell_type": "code",
   "execution_count": 14,
   "metadata": {},
   "outputs": [],
   "source": [
    "# create new col ride_length\n",
    "df['ride_length'] = (df['ended_at'] - df['started_at'])/np.timedelta64(1, 'm') # turn it into minutes\n",
    "\n",
    "# create new col for start day of week\n",
    "df['DayOfWeekNum'] = df['started_at'].dt.dayofweek\n",
    "\n",
    "# create new col for name of day\n",
    "df['DayOfWeek'] = df['started_at'].dt.day_name()\n",
    "\n",
    "# create new col for hour of day\n",
    "df['HourOfDay'] = df['started_at'].dt.hour\n",
    "\n",
    "# create new col for month name\n",
    "df['NameOfMonth'] = (df['started_at'].dt.strftime(\"%B\")).astype('category')\n",
    "\n",
    "# create a col for day types\n",
    "df['DayTypes'] = np.where(df['DayOfWeekNum'] >= 5, 'Weekends', 'Workdays')\n",
    "\n",
    "# create a month number\n",
    "df[\"month_number\"] = df[\"started_at\"].dt.month\n"
   ]
  },
  {
   "cell_type": "code",
   "execution_count": 15,
   "metadata": {},
   "outputs": [],
   "source": [
    "# create a season col\n",
    "season_dict = {'January': 'Winter',\n",
    "               'February': 'Winter',\n",
    "               'March': 'Spring', \n",
    "               'April': 'Spring',\n",
    "               'May': 'Spring',\n",
    "               'June': 'Summer',\n",
    "               'July': 'Summer',\n",
    "               'August': 'Summer',\n",
    "               'September': 'Fall',\n",
    "               'October': 'Fall',\n",
    "               'November': 'Fall',\n",
    "               'December': 'Winter'}\n",
    "df['Season'] = df['NameOfMonth'].apply(lambda x: season_dict[x])"
   ]
  },
  {
   "cell_type": "code",
   "execution_count": 16,
   "metadata": {},
   "outputs": [],
   "source": [
    "# create new col for distance between stations\n",
    "def distance_btn_stations(lat1, lon1, lat2, lon2):\n",
    "    \"\"\"\n",
    "    distance_btn_stations formula determining the great-circle distance between two points on a sphere in miles\n",
    "    \"\"\"\n",
    "    lat1, lon1, lat2, lon2 = np.radians([lat1, lon1, lat2, lon2])\n",
    "\n",
    "    a = np.sin((lat2-lat1)/2.0)**2 + \\\n",
    "        np.cos(lat1) * np.cos(lat2) * np.sin((lon2-lon1)/2.0)**2\n",
    "\n",
    "    return 3956 * 2 * np.arcsin(np.sqrt(a))\n",
    "\n",
    "df['distance'] = distance_btn_stations(df['start_lat'],df['start_lng'],df['end_lat'],df['end_lng'])"
   ]
  },
  {
   "cell_type": "markdown",
   "metadata": {},
   "source": [
    "## 4. Exploratory Data Analysis and Statistical Analysis\n",
    "We can have a detailed exploration that can be added to this section, but since we only need to answer three questions:\n",
    "\n",
    "<b> 4.1 Exploring and Understanding basics data </b>\n",
    "\n",
    "1. Distribution of Data across different groups. While there are only two dtypes in our DataFrame (object and float64), there are three categories of data: location, categorical, and numeric. Each of these require a different kind of exploration in our analysis.\n",
    "2. Difference of Sales in Account Types (Using Categorical Mean)\n",
    "\n",
    "<b> 4.2 Statistical Analysis - Answering the Questions</b>\n",
    "1. How do annual members and casual riders use Cyclistic bikes differently? \n",
    "2. Why would casual riders buy Cyclistic annual memberships?\n",
    "3. How can Cyclistic use digital media to influence casual riders to become members?"
   ]
  },
  {
   "cell_type": "markdown",
   "metadata": {},
   "source": [
    "## How do annual members and casual riders use Cyclistic bikes differently?"
   ]
  },
  {
   "cell_type": "markdown",
   "metadata": {},
   "source": [
    "### Categorical Data"
   ]
  },
  {
   "cell_type": "code",
   "execution_count": 17,
   "metadata": {},
   "outputs": [
    {
     "data": {
      "text/plain": [
       "['classic_bike', 'electric_bike', 'docked_bike']\n",
       "Categories (3, object): ['classic_bike', 'electric_bike', 'docked_bike']"
      ]
     },
     "execution_count": 17,
     "metadata": {},
     "output_type": "execute_result"
    }
   ],
   "source": [
    "# types of bikes used\n",
    "df['rideable_type'].unique()"
   ]
  },
  {
   "cell_type": "code",
   "execution_count": 18,
   "metadata": {},
   "outputs": [
    {
     "data": {
      "text/plain": [
       "rideable_type\n",
       "classic_bike     2663394\n",
       "electric_bike    1658100\n",
       "docked_bike       176404\n",
       "Name: ride_id, dtype: int64"
      ]
     },
     "execution_count": 18,
     "metadata": {},
     "output_type": "execute_result"
    }
   ],
   "source": [
    "# top bikes used by cyclists\n",
    "df.groupby(['rideable_type'])['ride_id'].count().sort_values(ascending=False)"
   ]
  },
  {
   "cell_type": "code",
   "execution_count": 19,
   "metadata": {},
   "outputs": [
    {
     "data": {
      "image/png": "[encoded data removed]",
      "text/plain": [
       "<Figure size 720x432 with 1 Axes>"
      ]
     },
     "metadata": {
      "needs_background": "light"
     },
     "output_type": "display_data"
    }
   ],
   "source": [
    "# create a count plot for top bikes\n",
    "fig = plt.figure(figsize = (10,6))\n",
    "sns.countplot(x=df.rideable_type)\n",
    "plt.ylabel('\\nBike Count\\n',fontsize=15)\n",
    "plt.xlabel('\\nRideable_Type\\n',fontsize=15)\n",
    "plt.title('\\nCount of Different Bikes used by Cyclists\\n', fontsize=20)\n",
    "plt.savefig('Top Bikes used by Cyclists.png')\n",
    "plt.show()"
   ]
  },
  {
   "cell_type": "code",
   "execution_count": 20,
   "metadata": {},
   "outputs": [
    {
     "data": {
      "text/plain": [
       "Streeter Dr & Grand Ave               72004\n",
       "DuSable Lake Shore Dr & Monroe St     39566\n",
       "DuSable Lake Shore Dr & North Blvd    37928\n",
       "Michigan Ave & Oak St                 37697\n",
       "Wells St & Concord Ln                 35300\n",
       "Clark St & Elm St                     33489\n",
       "Millennium Park                       33343\n",
       "Kingsbury St & Kinzie St              32177\n",
       "Theater on the Lake                   31598\n",
       "Wells St & Elm St                     29793\n",
       "Name: start_station_name, dtype: int64"
      ]
     },
     "execution_count": 20,
     "metadata": {},
     "output_type": "execute_result"
    }
   ],
   "source": [
    "#top 10 start stations used\n",
    "df['start_station_name'].value_counts().head(10)"
   ]
  },
  {
   "cell_type": "code",
   "execution_count": 21,
   "metadata": {},
   "outputs": [
    {
     "data": {
      "text/plain": [
       "start_station_name                 member_casual\n",
       "Streeter Dr & Grand Ave            casual           55562\n",
       "DuSable Lake Shore Dr & Monroe St  casual           30571\n",
       "Millennium Park                    casual           24259\n",
       "Michigan Ave & Oak St              casual           23975\n",
       "Kingsbury St & Kinzie St           member           23860\n",
       "Name: member_casual, dtype: int64"
      ]
     },
     "execution_count": 21,
     "metadata": {},
     "output_type": "execute_result"
    }
   ],
   "source": [
    "df.groupby(['start_station_name', 'member_casual'])['member_casual'].count().sort_values(ascending=False).head()"
   ]
  },
  {
   "cell_type": "markdown",
   "metadata": {},
   "source": [
    "Here are the top 5 stations used by the casual members. Mostly for tourist. There is a market gap here so efforts should be made on marketing towards these stations."
   ]
  },
  {
   "cell_type": "code",
   "execution_count": 22,
   "metadata": {},
   "outputs": [
    {
     "data": {
      "text/plain": [
       "member    0.601406\n",
       "casual    0.398594\n",
       "Name: member_casual, dtype: float64"
      ]
     },
     "execution_count": 22,
     "metadata": {},
     "output_type": "execute_result"
    }
   ],
   "source": [
    "# number of member_casual in each group\n",
    "df['member_casual'].value_counts(normalize=True)"
   ]
  },
  {
   "cell_type": "code",
   "execution_count": 23,
   "metadata": {},
   "outputs": [
    {
     "data": {
      "image/png": "[encoded data removed]",
      "text/plain": [
       "<Figure size 720x432 with 1 Axes>"
      ]
     },
     "metadata": {},
     "output_type": "display_data"
    }
   ],
   "source": [
    "# create a pie-chart of percentage of rides in each group\n",
    "member_casual_count = df['member_casual'].value_counts()\n",
    "fig = plt.figure(figsize = (10,6))\n",
    "plt.pie(member_casual_count, autopct='%.0f%%', labels=['member', 'casual'])\n",
    "plt.axis('equal')\n",
    "plt.savefig('% of Cyclisted Riders in member_casual.png')\n",
    "plt.show()\n",
    "plt.close()"
   ]
  },
  {
   "cell_type": "markdown",
   "metadata": {},
   "source": [
    "### Top Bikes used by each member_casual group"
   ]
  },
  {
   "cell_type": "code",
   "execution_count": 24,
   "metadata": {},
   "outputs": [
    {
     "data": {
      "text/html": [
       "<div>\n",
       "<style scoped>\n",
       "    .dataframe tbody tr th:only-of-type {\n",
       "        vertical-align: middle;\n",
       "    }\n",
       "\n",
       "    .dataframe tbody tr th {\n",
       "        vertical-align: top;\n",
       "    }\n",
       "\n",
       "    .dataframe thead th {\n",
       "        text-align: right;\n",
       "    }\n",
       "</style>\n",
       "<table border=\"1\" class=\"dataframe\">\n",
       "  <thead>\n",
       "    <tr style=\"text-align: right;\">\n",
       "      <th>member_casual</th>\n",
       "      <th>casual</th>\n",
       "      <th>member</th>\n",
       "      <th>All</th>\n",
       "    </tr>\n",
       "    <tr>\n",
       "      <th>rideable_type</th>\n",
       "      <th></th>\n",
       "      <th></th>\n",
       "      <th></th>\n",
       "    </tr>\n",
       "  </thead>\n",
       "  <tbody>\n",
       "    <tr>\n",
       "      <th>classic_bike</th>\n",
       "      <td>0.503746</td>\n",
       "      <td>0.650728</td>\n",
       "      <td>0.592142</td>\n",
       "    </tr>\n",
       "    <tr>\n",
       "      <th>docked_bike</th>\n",
       "      <td>0.098394</td>\n",
       "      <td>0.000000</td>\n",
       "      <td>0.039219</td>\n",
       "    </tr>\n",
       "    <tr>\n",
       "      <th>electric_bike</th>\n",
       "      <td>0.397860</td>\n",
       "      <td>0.349272</td>\n",
       "      <td>0.368639</td>\n",
       "    </tr>\n",
       "  </tbody>\n",
       "</table>\n",
       "</div>"
      ],
      "text/plain": [
       "member_casual    casual    member       All\n",
       "rideable_type                              \n",
       "classic_bike   0.503746  0.650728  0.592142\n",
       "docked_bike    0.098394  0.000000  0.039219\n",
       "electric_bike  0.397860  0.349272  0.368639"
      ]
     },
     "execution_count": 24,
     "metadata": {},
     "output_type": "execute_result"
    }
   ],
   "source": [
    "# compare bike types used by each group\n",
    "top_bikes = pd.crosstab(df['rideable_type'],df['member_casual'],margins=True,normalize='columns')\n",
    "top_bikes"
   ]
  },
  {
   "cell_type": "code",
   "execution_count": 25,
   "metadata": {},
   "outputs": [
    {
     "data": {
      "image/png": "[encoded data removed]",
      "text/plain": [
       "<Figure size 720x576 with 1 Axes>"
      ]
     },
     "metadata": {
      "needs_background": "light"
     },
     "output_type": "display_data"
    }
   ],
   "source": [
    "top_bikes.plot(kind = 'bar', figsize=(10,8))\n",
    "plt.ylabel('\\nBike Count\\n', fontsize=20)\n",
    "plt.xlabel('\\nBike Type\\n', fontsize=20)\n",
    "plt.title('\\nRides by Day of Week\\n', fontsize=20)\n",
    "plt.savefig(\"Barplot:Top Bike By User group.png\")\n",
    "plt.show()\n",
    "plt.close();"
   ]
  },
  {
   "cell_type": "markdown",
   "metadata": {},
   "source": [
    "The most popular bikes by each user group is the classic_bike at 59% market share compared to the rest while the least used bike is the docked bike at 3% market share. However the most interesting part is that the useage of a docked bike is non existant for the member as the casual group takes up all the useage. So there is a market gab here to be utilized.\n",
    "\n",
    "The electric_bike is the most equal favourite among the 2 groups with little difference in useage of about 0.5%"
   ]
  },
  {
   "cell_type": "markdown",
   "metadata": {},
   "source": [
    "### 4.1.3 Numerical Data\n",
    "To get a sense of numerical data, will look at descriptive statistics"
   ]
  },
  {
   "cell_type": "code",
   "execution_count": 26,
   "metadata": {},
   "outputs": [
    {
     "name": "stdout",
     "output_type": "stream",
     "text": [
      "(4497898, 22)\n"
     ]
    },
    {
     "data": {
      "text/html": [
       "<div>\n",
       "<style scoped>\n",
       "    .dataframe tbody tr th:only-of-type {\n",
       "        vertical-align: middle;\n",
       "    }\n",
       "\n",
       "    .dataframe tbody tr th {\n",
       "        vertical-align: top;\n",
       "    }\n",
       "\n",
       "    .dataframe thead th {\n",
       "        text-align: right;\n",
       "    }\n",
       "</style>\n",
       "<table border=\"1\" class=\"dataframe\">\n",
       "  <thead>\n",
       "    <tr style=\"text-align: right;\">\n",
       "      <th></th>\n",
       "      <th>distance</th>\n",
       "      <th>ride_length</th>\n",
       "    </tr>\n",
       "  </thead>\n",
       "  <tbody>\n",
       "    <tr>\n",
       "      <th>count</th>\n",
       "      <td>4.497898e+06</td>\n",
       "      <td>4.497898e+06</td>\n",
       "    </tr>\n",
       "    <tr>\n",
       "      <th>mean</th>\n",
       "      <td>1.300807e+00</td>\n",
       "      <td>1.687832e+01</td>\n",
       "    </tr>\n",
       "    <tr>\n",
       "      <th>std</th>\n",
       "      <td>8.205870e+00</td>\n",
       "      <td>4.172518e+01</td>\n",
       "    </tr>\n",
       "    <tr>\n",
       "      <th>min</th>\n",
       "      <td>0.000000e+00</td>\n",
       "      <td>-1.687000e+02</td>\n",
       "    </tr>\n",
       "    <tr>\n",
       "      <th>25%</th>\n",
       "      <td>5.425968e-01</td>\n",
       "      <td>5.966667e+00</td>\n",
       "    </tr>\n",
       "    <tr>\n",
       "      <th>50%</th>\n",
       "      <td>9.652863e-01</td>\n",
       "      <td>1.046667e+01</td>\n",
       "    </tr>\n",
       "    <tr>\n",
       "      <th>75%</th>\n",
       "      <td>1.689824e+00</td>\n",
       "      <td>1.880000e+01</td>\n",
       "    </tr>\n",
       "    <tr>\n",
       "      <th>max</th>\n",
       "      <td>6.093935e+03</td>\n",
       "      <td>3.435407e+04</td>\n",
       "    </tr>\n",
       "  </tbody>\n",
       "</table>\n",
       "</div>"
      ],
      "text/plain": [
       "           distance   ride_length\n",
       "count  4.497898e+06  4.497898e+06\n",
       "mean   1.300807e+00  1.687832e+01\n",
       "std    8.205870e+00  4.172518e+01\n",
       "min    0.000000e+00 -1.687000e+02\n",
       "25%    5.425968e-01  5.966667e+00\n",
       "50%    9.652863e-01  1.046667e+01\n",
       "75%    1.689824e+00  1.880000e+01\n",
       "max    6.093935e+03  3.435407e+04"
      ]
     },
     "execution_count": 26,
     "metadata": {},
     "output_type": "execute_result"
    }
   ],
   "source": [
    "print(df.shape)\n",
    "df[['distance','ride_length']].describe()"
   ]
  },
  {
   "cell_type": "markdown",
   "metadata": {},
   "source": [
    "looks like we have a couple of problems.\n",
    "1. The minimum distance = 0: which suggest the user did not leave the station.\n",
    "2. The minimum ride_length =  -1.687000e+0: has a negative value. These two columns could be related\n",
    "3. max and min values of both columns suggest the data to have outliers\n",
    "\n",
    "### Removing Outliers\n",
    "\n",
    "Before we remove outliers first we will inspect and transform rows with negative or zero ride_length. "
   ]
  },
  {
   "cell_type": "code",
   "execution_count": 27,
   "metadata": {},
   "outputs": [
    {
     "data": {
      "text/html": [
       "<div>\n",
       "<style scoped>\n",
       "    .dataframe tbody tr th:only-of-type {\n",
       "        vertical-align: middle;\n",
       "    }\n",
       "\n",
       "    .dataframe tbody tr th {\n",
       "        vertical-align: top;\n",
       "    }\n",
       "\n",
       "    .dataframe thead th {\n",
       "        text-align: right;\n",
       "    }\n",
       "</style>\n",
       "<table border=\"1\" class=\"dataframe\">\n",
       "  <thead>\n",
       "    <tr style=\"text-align: right;\">\n",
       "      <th></th>\n",
       "      <th>ride_id</th>\n",
       "      <th>rideable_type</th>\n",
       "      <th>started_at</th>\n",
       "      <th>ended_at</th>\n",
       "      <th>start_station_name</th>\n",
       "      <th>start_station_id</th>\n",
       "      <th>end_station_name</th>\n",
       "      <th>end_station_id</th>\n",
       "      <th>start_lat</th>\n",
       "      <th>start_lng</th>\n",
       "      <th>...</th>\n",
       "      <th>member_casual</th>\n",
       "      <th>ride_length</th>\n",
       "      <th>DayOfWeekNum</th>\n",
       "      <th>DayOfWeek</th>\n",
       "      <th>HourOfDay</th>\n",
       "      <th>NameOfMonth</th>\n",
       "      <th>DayTypes</th>\n",
       "      <th>month_number</th>\n",
       "      <th>Season</th>\n",
       "      <th>distance</th>\n",
       "    </tr>\n",
       "  </thead>\n",
       "  <tbody>\n",
       "    <tr>\n",
       "      <th>13139</th>\n",
       "      <td>162024EA2A5F23AC</td>\n",
       "      <td>electric_bike</td>\n",
       "      <td>2022-08-18 18:16:28</td>\n",
       "      <td>2022-08-18 18:16:28</td>\n",
       "      <td>Cottage Grove Ave &amp; 51st St</td>\n",
       "      <td>TA1309000067</td>\n",
       "      <td>Cottage Grove Ave &amp; 51st St</td>\n",
       "      <td>TA1309000067</td>\n",
       "      <td>41.803033</td>\n",
       "      <td>-87.606626</td>\n",
       "      <td>...</td>\n",
       "      <td>member</td>\n",
       "      <td>0.0</td>\n",
       "      <td>3</td>\n",
       "      <td>Thursday</td>\n",
       "      <td>18</td>\n",
       "      <td>August</td>\n",
       "      <td>Workdays</td>\n",
       "      <td>8</td>\n",
       "      <td>Summer</td>\n",
       "      <td>0.000632</td>\n",
       "    </tr>\n",
       "    <tr>\n",
       "      <th>63114</th>\n",
       "      <td>8B5EDA7571220F96</td>\n",
       "      <td>electric_bike</td>\n",
       "      <td>2022-08-05 18:28:39</td>\n",
       "      <td>2022-08-05 18:28:39</td>\n",
       "      <td>Sheridan Rd &amp; Irving Park Rd</td>\n",
       "      <td>13063</td>\n",
       "      <td>Sheridan Rd &amp; Irving Park Rd</td>\n",
       "      <td>13063</td>\n",
       "      <td>41.954142</td>\n",
       "      <td>-87.654422</td>\n",
       "      <td>...</td>\n",
       "      <td>member</td>\n",
       "      <td>0.0</td>\n",
       "      <td>4</td>\n",
       "      <td>Friday</td>\n",
       "      <td>18</td>\n",
       "      <td>August</td>\n",
       "      <td>Workdays</td>\n",
       "      <td>8</td>\n",
       "      <td>Summer</td>\n",
       "      <td>0.007161</td>\n",
       "    </tr>\n",
       "    <tr>\n",
       "      <th>65073</th>\n",
       "      <td>09B71177D92C0DC5</td>\n",
       "      <td>classic_bike</td>\n",
       "      <td>2022-08-05 17:40:06</td>\n",
       "      <td>2022-08-05 17:40:06</td>\n",
       "      <td>Michigan Ave &amp; Oak St</td>\n",
       "      <td>13042</td>\n",
       "      <td>Michigan Ave &amp; Oak St</td>\n",
       "      <td>13042</td>\n",
       "      <td>41.900960</td>\n",
       "      <td>-87.623777</td>\n",
       "      <td>...</td>\n",
       "      <td>casual</td>\n",
       "      <td>0.0</td>\n",
       "      <td>4</td>\n",
       "      <td>Friday</td>\n",
       "      <td>17</td>\n",
       "      <td>August</td>\n",
       "      <td>Workdays</td>\n",
       "      <td>8</td>\n",
       "      <td>Summer</td>\n",
       "      <td>0.000000</td>\n",
       "    </tr>\n",
       "    <tr>\n",
       "      <th>118326</th>\n",
       "      <td>9EF99F49CDEAF18C</td>\n",
       "      <td>classic_bike</td>\n",
       "      <td>2022-08-30 13:28:47</td>\n",
       "      <td>2022-08-30 13:28:47</td>\n",
       "      <td>Greenview Ave &amp; Diversey Pkwy</td>\n",
       "      <td>13294</td>\n",
       "      <td>Greenview Ave &amp; Diversey Pkwy</td>\n",
       "      <td>13294</td>\n",
       "      <td>41.932590</td>\n",
       "      <td>-87.665936</td>\n",
       "      <td>...</td>\n",
       "      <td>member</td>\n",
       "      <td>0.0</td>\n",
       "      <td>1</td>\n",
       "      <td>Tuesday</td>\n",
       "      <td>13</td>\n",
       "      <td>August</td>\n",
       "      <td>Workdays</td>\n",
       "      <td>8</td>\n",
       "      <td>Summer</td>\n",
       "      <td>0.000000</td>\n",
       "    </tr>\n",
       "    <tr>\n",
       "      <th>124380</th>\n",
       "      <td>F63E2BA5D00BBAB8</td>\n",
       "      <td>classic_bike</td>\n",
       "      <td>2022-08-04 15:26:01</td>\n",
       "      <td>2022-08-04 15:26:01</td>\n",
       "      <td>Clarendon Ave &amp; Junior Ter</td>\n",
       "      <td>13389</td>\n",
       "      <td>Clarendon Ave &amp; Junior Ter</td>\n",
       "      <td>13389</td>\n",
       "      <td>41.961004</td>\n",
       "      <td>-87.649603</td>\n",
       "      <td>...</td>\n",
       "      <td>casual</td>\n",
       "      <td>0.0</td>\n",
       "      <td>3</td>\n",
       "      <td>Thursday</td>\n",
       "      <td>15</td>\n",
       "      <td>August</td>\n",
       "      <td>Workdays</td>\n",
       "      <td>8</td>\n",
       "      <td>Summer</td>\n",
       "      <td>0.000000</td>\n",
       "    </tr>\n",
       "  </tbody>\n",
       "</table>\n",
       "<p>5 rows × 22 columns</p>\n",
       "</div>"
      ],
      "text/plain": [
       "                 ride_id  rideable_type          started_at  \\\n",
       "13139   162024EA2A5F23AC  electric_bike 2022-08-18 18:16:28   \n",
       "63114   8B5EDA7571220F96  electric_bike 2022-08-05 18:28:39   \n",
       "65073   09B71177D92C0DC5   classic_bike 2022-08-05 17:40:06   \n",
       "118326  9EF99F49CDEAF18C   classic_bike 2022-08-30 13:28:47   \n",
       "124380  F63E2BA5D00BBAB8   classic_bike 2022-08-04 15:26:01   \n",
       "\n",
       "                  ended_at             start_station_name start_station_id  \\\n",
       "13139  2022-08-18 18:16:28    Cottage Grove Ave & 51st St     TA1309000067   \n",
       "63114  2022-08-05 18:28:39   Sheridan Rd & Irving Park Rd            13063   \n",
       "65073  2022-08-05 17:40:06          Michigan Ave & Oak St            13042   \n",
       "118326 2022-08-30 13:28:47  Greenview Ave & Diversey Pkwy            13294   \n",
       "124380 2022-08-04 15:26:01     Clarendon Ave & Junior Ter            13389   \n",
       "\n",
       "                     end_station_name end_station_id  start_lat  start_lng  \\\n",
       "13139     Cottage Grove Ave & 51st St   TA1309000067  41.803033 -87.606626   \n",
       "63114    Sheridan Rd & Irving Park Rd          13063  41.954142 -87.654422   \n",
       "65073           Michigan Ave & Oak St          13042  41.900960 -87.623777   \n",
       "118326  Greenview Ave & Diversey Pkwy          13294  41.932590 -87.665936   \n",
       "124380     Clarendon Ave & Junior Ter          13389  41.961004 -87.649603   \n",
       "\n",
       "        ...  member_casual  ride_length DayOfWeekNum  DayOfWeek  HourOfDay  \\\n",
       "13139   ...         member          0.0            3   Thursday         18   \n",
       "63114   ...         member          0.0            4     Friday         18   \n",
       "65073   ...         casual          0.0            4     Friday         17   \n",
       "118326  ...         member          0.0            1    Tuesday         13   \n",
       "124380  ...         casual          0.0            3   Thursday         15   \n",
       "\n",
       "       NameOfMonth  DayTypes month_number  Season  distance  \n",
       "13139       August  Workdays            8  Summer  0.000632  \n",
       "63114       August  Workdays            8  Summer  0.007161  \n",
       "65073       August  Workdays            8  Summer  0.000000  \n",
       "118326      August  Workdays            8  Summer  0.000000  \n",
       "124380      August  Workdays            8  Summer  0.000000  \n",
       "\n",
       "[5 rows x 22 columns]"
      ]
     },
     "execution_count": 27,
     "metadata": {},
     "output_type": "execute_result"
    }
   ],
   "source": [
    "#check rows with negative ridetime \n",
    "df.loc[df['ride_length'] <= 0].head()"
   ]
  },
  {
   "cell_type": "markdown",
   "metadata": {},
   "source": [
    "As suspected, from viewing the data. These users probably never left the stations as start & end station names are the same and the distance btn stations is very minimal. So will drop these rows."
   ]
  },
  {
   "cell_type": "code",
   "execution_count": 28,
   "metadata": {},
   "outputs": [
    {
     "data": {
      "text/plain": [
       "(4497582, 22)"
      ]
     },
     "execution_count": 28,
     "metadata": {},
     "output_type": "execute_result"
    }
   ],
   "source": [
    "# drop rows with 0 or negative ridetime\n",
    "df.drop(df[df['ride_length'] <= 0].index , inplace=True)\n",
    "df.shape"
   ]
  },
  {
   "cell_type": "code",
   "execution_count": 29,
   "metadata": {},
   "outputs": [
    {
     "data": {
      "text/html": [
       "<div>\n",
       "<style scoped>\n",
       "    .dataframe tbody tr th:only-of-type {\n",
       "        vertical-align: middle;\n",
       "    }\n",
       "\n",
       "    .dataframe tbody tr th {\n",
       "        vertical-align: top;\n",
       "    }\n",
       "\n",
       "    .dataframe thead th {\n",
       "        text-align: right;\n",
       "    }\n",
       "</style>\n",
       "<table border=\"1\" class=\"dataframe\">\n",
       "  <thead>\n",
       "    <tr style=\"text-align: right;\">\n",
       "      <th></th>\n",
       "      <th>ride_id</th>\n",
       "      <th>rideable_type</th>\n",
       "      <th>started_at</th>\n",
       "      <th>ended_at</th>\n",
       "      <th>start_station_name</th>\n",
       "      <th>start_station_id</th>\n",
       "      <th>end_station_name</th>\n",
       "      <th>end_station_id</th>\n",
       "      <th>start_lat</th>\n",
       "      <th>start_lng</th>\n",
       "      <th>...</th>\n",
       "      <th>member_casual</th>\n",
       "      <th>ride_length</th>\n",
       "      <th>DayOfWeekNum</th>\n",
       "      <th>DayOfWeek</th>\n",
       "      <th>HourOfDay</th>\n",
       "      <th>NameOfMonth</th>\n",
       "      <th>DayTypes</th>\n",
       "      <th>month_number</th>\n",
       "      <th>Season</th>\n",
       "      <th>distance</th>\n",
       "    </tr>\n",
       "  </thead>\n",
       "  <tbody>\n",
       "    <tr>\n",
       "      <th>271</th>\n",
       "      <td>53A7590B28ED25E2</td>\n",
       "      <td>classic_bike</td>\n",
       "      <td>2022-08-11 23:30:11</td>\n",
       "      <td>2022-08-11 23:30:56</td>\n",
       "      <td>California Ave &amp; Milwaukee Ave</td>\n",
       "      <td>13084</td>\n",
       "      <td>California Ave &amp; Milwaukee Ave</td>\n",
       "      <td>13084</td>\n",
       "      <td>41.922695</td>\n",
       "      <td>-87.697153</td>\n",
       "      <td>...</td>\n",
       "      <td>casual</td>\n",
       "      <td>0.750000</td>\n",
       "      <td>3</td>\n",
       "      <td>Thursday</td>\n",
       "      <td>23</td>\n",
       "      <td>August</td>\n",
       "      <td>Workdays</td>\n",
       "      <td>8</td>\n",
       "      <td>Summer</td>\n",
       "      <td>0.0</td>\n",
       "    </tr>\n",
       "    <tr>\n",
       "      <th>329</th>\n",
       "      <td>C34EE790A58C0434</td>\n",
       "      <td>classic_bike</td>\n",
       "      <td>2022-08-21 14:09:08</td>\n",
       "      <td>2022-08-21 15:10:46</td>\n",
       "      <td>California Ave &amp; Division St</td>\n",
       "      <td>13256</td>\n",
       "      <td>California Ave &amp; Division St</td>\n",
       "      <td>13256</td>\n",
       "      <td>41.903029</td>\n",
       "      <td>-87.697474</td>\n",
       "      <td>...</td>\n",
       "      <td>casual</td>\n",
       "      <td>61.633333</td>\n",
       "      <td>6</td>\n",
       "      <td>Sunday</td>\n",
       "      <td>14</td>\n",
       "      <td>August</td>\n",
       "      <td>Weekends</td>\n",
       "      <td>8</td>\n",
       "      <td>Summer</td>\n",
       "      <td>0.0</td>\n",
       "    </tr>\n",
       "    <tr>\n",
       "      <th>422</th>\n",
       "      <td>BEE91D557E47FE83</td>\n",
       "      <td>classic_bike</td>\n",
       "      <td>2022-08-21 02:11:26</td>\n",
       "      <td>2022-08-21 03:44:04</td>\n",
       "      <td>California Ave &amp; Milwaukee Ave</td>\n",
       "      <td>13084</td>\n",
       "      <td>California Ave &amp; Milwaukee Ave</td>\n",
       "      <td>13084</td>\n",
       "      <td>41.922695</td>\n",
       "      <td>-87.697153</td>\n",
       "      <td>...</td>\n",
       "      <td>casual</td>\n",
       "      <td>92.633333</td>\n",
       "      <td>6</td>\n",
       "      <td>Sunday</td>\n",
       "      <td>2</td>\n",
       "      <td>August</td>\n",
       "      <td>Weekends</td>\n",
       "      <td>8</td>\n",
       "      <td>Summer</td>\n",
       "      <td>0.0</td>\n",
       "    </tr>\n",
       "    <tr>\n",
       "      <th>495</th>\n",
       "      <td>B062265E6FF9D98D</td>\n",
       "      <td>classic_bike</td>\n",
       "      <td>2022-08-19 21:40:21</td>\n",
       "      <td>2022-08-19 21:40:31</td>\n",
       "      <td>California Ave &amp; Division St</td>\n",
       "      <td>13256</td>\n",
       "      <td>California Ave &amp; Division St</td>\n",
       "      <td>13256</td>\n",
       "      <td>41.903029</td>\n",
       "      <td>-87.697474</td>\n",
       "      <td>...</td>\n",
       "      <td>casual</td>\n",
       "      <td>0.166667</td>\n",
       "      <td>4</td>\n",
       "      <td>Friday</td>\n",
       "      <td>21</td>\n",
       "      <td>August</td>\n",
       "      <td>Workdays</td>\n",
       "      <td>8</td>\n",
       "      <td>Summer</td>\n",
       "      <td>0.0</td>\n",
       "    </tr>\n",
       "    <tr>\n",
       "      <th>772</th>\n",
       "      <td>4479E16A664544D6</td>\n",
       "      <td>classic_bike</td>\n",
       "      <td>2022-08-16 15:50:44</td>\n",
       "      <td>2022-08-16 15:52:40</td>\n",
       "      <td>Campbell Ave &amp; Montrose Ave</td>\n",
       "      <td>15623</td>\n",
       "      <td>Campbell Ave &amp; Montrose Ave</td>\n",
       "      <td>15623</td>\n",
       "      <td>41.961526</td>\n",
       "      <td>-87.691165</td>\n",
       "      <td>...</td>\n",
       "      <td>casual</td>\n",
       "      <td>1.933333</td>\n",
       "      <td>1</td>\n",
       "      <td>Tuesday</td>\n",
       "      <td>15</td>\n",
       "      <td>August</td>\n",
       "      <td>Workdays</td>\n",
       "      <td>8</td>\n",
       "      <td>Summer</td>\n",
       "      <td>0.0</td>\n",
       "    </tr>\n",
       "  </tbody>\n",
       "</table>\n",
       "<p>5 rows × 22 columns</p>\n",
       "</div>"
      ],
      "text/plain": [
       "              ride_id rideable_type          started_at            ended_at  \\\n",
       "271  53A7590B28ED25E2  classic_bike 2022-08-11 23:30:11 2022-08-11 23:30:56   \n",
       "329  C34EE790A58C0434  classic_bike 2022-08-21 14:09:08 2022-08-21 15:10:46   \n",
       "422  BEE91D557E47FE83  classic_bike 2022-08-21 02:11:26 2022-08-21 03:44:04   \n",
       "495  B062265E6FF9D98D  classic_bike 2022-08-19 21:40:21 2022-08-19 21:40:31   \n",
       "772  4479E16A664544D6  classic_bike 2022-08-16 15:50:44 2022-08-16 15:52:40   \n",
       "\n",
       "                 start_station_name start_station_id  \\\n",
       "271  California Ave & Milwaukee Ave            13084   \n",
       "329    California Ave & Division St            13256   \n",
       "422  California Ave & Milwaukee Ave            13084   \n",
       "495    California Ave & Division St            13256   \n",
       "772     Campbell Ave & Montrose Ave            15623   \n",
       "\n",
       "                   end_station_name end_station_id  start_lat  start_lng  ...  \\\n",
       "271  California Ave & Milwaukee Ave          13084  41.922695 -87.697153  ...   \n",
       "329    California Ave & Division St          13256  41.903029 -87.697474  ...   \n",
       "422  California Ave & Milwaukee Ave          13084  41.922695 -87.697153  ...   \n",
       "495    California Ave & Division St          13256  41.903029 -87.697474  ...   \n",
       "772     Campbell Ave & Montrose Ave          15623  41.961526 -87.691165  ...   \n",
       "\n",
       "     member_casual  ride_length DayOfWeekNum  DayOfWeek  HourOfDay  \\\n",
       "271         casual     0.750000            3   Thursday         23   \n",
       "329         casual    61.633333            6     Sunday         14   \n",
       "422         casual    92.633333            6     Sunday          2   \n",
       "495         casual     0.166667            4     Friday         21   \n",
       "772         casual     1.933333            1    Tuesday         15   \n",
       "\n",
       "    NameOfMonth  DayTypes month_number  Season  distance  \n",
       "271      August  Workdays            8  Summer       0.0  \n",
       "329      August  Weekends            8  Summer       0.0  \n",
       "422      August  Weekends            8  Summer       0.0  \n",
       "495      August  Workdays            8  Summer       0.0  \n",
       "772      August  Workdays            8  Summer       0.0  \n",
       "\n",
       "[5 rows x 22 columns]"
      ]
     },
     "execution_count": 29,
     "metadata": {},
     "output_type": "execute_result"
    }
   ],
   "source": [
    "#check rows with zero distance \n",
    "df.loc[df['distance'] <= 0].head()"
   ]
  },
  {
   "cell_type": "markdown",
   "metadata": {},
   "source": [
    "Now this is interesting. We have rows with zero distance but with some rows having a high ride_length and same start and end stations. This suggests and confirms outliers in the dataset."
   ]
  },
  {
   "cell_type": "code",
   "execution_count": 30,
   "metadata": {},
   "outputs": [],
   "source": [
    "# create a scatter plot showing ride_length vs distance\n",
    "#sns.scatterplot(data = df, x=\"distance\", y=\"ride_length\", hue='member_casual')\n",
    "#plt.xlabel(\"distnce (miles)\")\n",
    "#plt.ylabel(\"ride time (mins)\")\n",
    "#plt.title(\"Chicago: Ride_length vs Distance\");"
   ]
  },
  {
   "cell_type": "code",
   "execution_count": 31,
   "metadata": {},
   "outputs": [
    {
     "name": "stdout",
     "output_type": "stream",
     "text": [
      "(3600215, 22)\n"
     ]
    },
    {
     "data": {
      "text/html": [
       "<div>\n",
       "<style scoped>\n",
       "    .dataframe tbody tr th:only-of-type {\n",
       "        vertical-align: middle;\n",
       "    }\n",
       "\n",
       "    .dataframe tbody tr th {\n",
       "        vertical-align: top;\n",
       "    }\n",
       "\n",
       "    .dataframe thead th {\n",
       "        text-align: right;\n",
       "    }\n",
       "</style>\n",
       "<table border=\"1\" class=\"dataframe\">\n",
       "  <thead>\n",
       "    <tr style=\"text-align: right;\">\n",
       "      <th></th>\n",
       "      <th>distance</th>\n",
       "      <th>ride_length</th>\n",
       "    </tr>\n",
       "  </thead>\n",
       "  <tbody>\n",
       "    <tr>\n",
       "      <th>count</th>\n",
       "      <td>3.600215e+06</td>\n",
       "      <td>3.600215e+06</td>\n",
       "    </tr>\n",
       "    <tr>\n",
       "      <th>mean</th>\n",
       "      <td>1.311479e+00</td>\n",
       "      <td>1.238844e+01</td>\n",
       "    </tr>\n",
       "    <tr>\n",
       "      <th>std</th>\n",
       "      <td>7.916743e+00</td>\n",
       "      <td>7.076885e+00</td>\n",
       "    </tr>\n",
       "    <tr>\n",
       "      <th>min</th>\n",
       "      <td>0.000000e+00</td>\n",
       "      <td>3.566667e+00</td>\n",
       "    </tr>\n",
       "    <tr>\n",
       "      <th>25%</th>\n",
       "      <td>6.727511e-01</td>\n",
       "      <td>6.750000e+00</td>\n",
       "    </tr>\n",
       "    <tr>\n",
       "      <th>50%</th>\n",
       "      <td>1.045952e+00</td>\n",
       "      <td>1.046667e+01</td>\n",
       "    </tr>\n",
       "    <tr>\n",
       "      <th>75%</th>\n",
       "      <td>1.695066e+00</td>\n",
       "      <td>1.643333e+01</td>\n",
       "    </tr>\n",
       "    <tr>\n",
       "      <th>max</th>\n",
       "      <td>6.093935e+03</td>\n",
       "      <td>3.285000e+01</td>\n",
       "    </tr>\n",
       "  </tbody>\n",
       "</table>\n",
       "</div>"
      ],
      "text/plain": [
       "           distance   ride_length\n",
       "count  3.600215e+06  3.600215e+06\n",
       "mean   1.311479e+00  1.238844e+01\n",
       "std    7.916743e+00  7.076885e+00\n",
       "min    0.000000e+00  3.566667e+00\n",
       "25%    6.727511e-01  6.750000e+00\n",
       "50%    1.045952e+00  1.046667e+01\n",
       "75%    1.695066e+00  1.643333e+01\n",
       "max    6.093935e+03  3.285000e+01"
      ]
     },
     "execution_count": 31,
     "metadata": {},
     "output_type": "execute_result"
    }
   ],
   "source": [
    "# Remove outliers by '\"ride_time\"'\n",
    "low, high = df[\"ride_length\"].quantile([0.1, 0.9])\n",
    "mask_area=df[\"ride_length\"].between(low, high)\n",
    "df=df[mask_area]\n",
    "print(df.shape)\n",
    "df[['distance','ride_length']].describe()"
   ]
  },
  {
   "cell_type": "code",
   "execution_count": 32,
   "metadata": {},
   "outputs": [
    {
     "data": {
      "image/png": "[encoded data removed]",
      "text/plain": [
       "<Figure size 720x432 with 1 Axes>"
      ]
     },
     "metadata": {
      "needs_background": "light"
     },
     "output_type": "display_data"
    }
   ],
   "source": [
    "# average ridelength\n",
    "mean_ride_length = np.mean(df['ride_length'])\n",
    "# median ridelength\n",
    "median_ride_length = np.median(df['ride_length'])\n",
    "# mode ridelength\n",
    "mode_ride_length = df['ride_length'].mode()\n",
    "\n",
    "# plot a histogram for ride_length over time\n",
    "fig = plt.figure(figsize = (10,6))\n",
    "plt.hist(df['ride_length'])\n",
    "plt.vlines(x=mean_ride_length, ymin=3.6, ymax=32.9, colors='red', label='mean')\n",
    "plt.vlines(x=median_ride_length, ymin=3.6, ymax=32.9, colors='yellow', label='mean')\n",
    "plt.title('\\nRide_length over time (minutes)\\n', fontsize=20)\n",
    "plt.xlabel('\\nRide_length (minutes)\\n', fontsize=20)\n",
    "plt.legend()\n",
    "plt.savefig('histogram for ride_length over time.png')\n",
    "plt.show()"
   ]
  },
  {
   "cell_type": "code",
   "execution_count": 33,
   "metadata": {},
   "outputs": [],
   "source": [
    "# Remove outliers by '\"distance\"'\n",
    "low, high = df[\"distance\"].quantile([0.1, 0.9])\n",
    "mask_distance=df[\"distance\"].between(low, high)\n",
    "df=df[mask_distance] "
   ]
  },
  {
   "cell_type": "code",
   "execution_count": 34,
   "metadata": {},
   "outputs": [
    {
     "data": {
      "image/png": "[encoded data removed]",
      "text/plain": [
       "<Figure size 720x432 with 1 Axes>"
      ]
     },
     "metadata": {
      "needs_background": "light"
     },
     "output_type": "display_data"
    }
   ],
   "source": [
    "# create a scatter plot showing ride_length vs distance\n",
    "fig = plt.figure(figsize = (10,6))\n",
    "plt.scatter(x=df[\"distance\"], y=df[\"ride_length\"])\n",
    "plt.xlabel(\"\\ndistnce (miles)\\n\", fontsize=20)\n",
    "plt.ylabel(\"\\nride time (mins)\\n\", fontsize=20)\n",
    "plt.title(\"\\nChicago: Ride_length vs Distance\\n\", fontsize=20)\n",
    "plt.savefig('scatter plot:ride_length vs distance.png')\n",
    "plt.show();"
   ]
  },
  {
   "cell_type": "code",
   "execution_count": 35,
   "metadata": {},
   "outputs": [
    {
     "data": {
      "text/plain": [
       "(2880593, 22)"
      ]
     },
     "execution_count": 35,
     "metadata": {},
     "output_type": "execute_result"
    }
   ],
   "source": [
    "df.shape"
   ]
  },
  {
   "cell_type": "code",
   "execution_count": 36,
   "metadata": {},
   "outputs": [
    {
     "data": {
      "text/html": [
       "<div>\n",
       "<style scoped>\n",
       "    .dataframe tbody tr th:only-of-type {\n",
       "        vertical-align: middle;\n",
       "    }\n",
       "\n",
       "    .dataframe tbody tr th {\n",
       "        vertical-align: top;\n",
       "    }\n",
       "\n",
       "    .dataframe thead th {\n",
       "        text-align: right;\n",
       "    }\n",
       "</style>\n",
       "<table border=\"1\" class=\"dataframe\">\n",
       "  <thead>\n",
       "    <tr style=\"text-align: right;\">\n",
       "      <th></th>\n",
       "      <th>start_lat</th>\n",
       "      <th>start_lng</th>\n",
       "      <th>end_lat</th>\n",
       "      <th>end_lng</th>\n",
       "      <th>ride_length</th>\n",
       "      <th>DayOfWeekNum</th>\n",
       "      <th>HourOfDay</th>\n",
       "      <th>month_number</th>\n",
       "      <th>distance</th>\n",
       "    </tr>\n",
       "  </thead>\n",
       "  <tbody>\n",
       "    <tr>\n",
       "      <th>count</th>\n",
       "      <td>2.880593e+06</td>\n",
       "      <td>2.880593e+06</td>\n",
       "      <td>2.880593e+06</td>\n",
       "      <td>2.880593e+06</td>\n",
       "      <td>2.880593e+06</td>\n",
       "      <td>2.880593e+06</td>\n",
       "      <td>2.880593e+06</td>\n",
       "      <td>2.880593e+06</td>\n",
       "      <td>2.880593e+06</td>\n",
       "    </tr>\n",
       "    <tr>\n",
       "      <th>mean</th>\n",
       "      <td>4.190254e+01</td>\n",
       "      <td>-8.764578e+01</td>\n",
       "      <td>4.190270e+01</td>\n",
       "      <td>-8.764607e+01</td>\n",
       "      <td>1.132218e+01</td>\n",
       "      <td>3.005554e+00</td>\n",
       "      <td>1.422301e+01</td>\n",
       "      <td>6.950827e+00</td>\n",
       "      <td>1.175166e+00</td>\n",
       "    </tr>\n",
       "    <tr>\n",
       "      <th>std</th>\n",
       "      <td>4.041336e-02</td>\n",
       "      <td>2.354988e-02</td>\n",
       "      <td>4.053805e-02</td>\n",
       "      <td>2.368591e-02</td>\n",
       "      <td>5.949802e+00</td>\n",
       "      <td>1.963430e+00</td>\n",
       "      <td>4.997140e+00</td>\n",
       "      <td>2.671256e+00</td>\n",
       "      <td>5.302610e-01</td>\n",
       "    </tr>\n",
       "    <tr>\n",
       "      <th>min</th>\n",
       "      <td>4.164850e+01</td>\n",
       "      <td>-8.783325e+01</td>\n",
       "      <td>4.164850e+01</td>\n",
       "      <td>-8.783000e+01</td>\n",
       "      <td>3.566667e+00</td>\n",
       "      <td>0.000000e+00</td>\n",
       "      <td>0.000000e+00</td>\n",
       "      <td>1.000000e+00</td>\n",
       "      <td>4.551701e-01</td>\n",
       "    </tr>\n",
       "    <tr>\n",
       "      <th>25%</th>\n",
       "      <td>4.188182e+01</td>\n",
       "      <td>-8.765862e+01</td>\n",
       "      <td>4.188189e+01</td>\n",
       "      <td>-8.765887e+01</td>\n",
       "      <td>6.800000e+00</td>\n",
       "      <td>1.000000e+00</td>\n",
       "      <td>1.100000e+01</td>\n",
       "      <td>5.000000e+00</td>\n",
       "      <td>7.435540e-01</td>\n",
       "    </tr>\n",
       "    <tr>\n",
       "      <th>50%</th>\n",
       "      <td>4.189776e+01</td>\n",
       "      <td>-8.764335e+01</td>\n",
       "      <td>4.189820e+01</td>\n",
       "      <td>-8.764395e+01</td>\n",
       "      <td>9.866667e+00</td>\n",
       "      <td>3.000000e+00</td>\n",
       "      <td>1.500000e+01</td>\n",
       "      <td>7.000000e+00</td>\n",
       "      <td>1.046074e+00</td>\n",
       "    </tr>\n",
       "    <tr>\n",
       "      <th>75%</th>\n",
       "      <td>4.192632e+01</td>\n",
       "      <td>-8.763083e+01</td>\n",
       "      <td>4.192871e+01</td>\n",
       "      <td>-8.763083e+01</td>\n",
       "      <td>1.433333e+01</td>\n",
       "      <td>5.000000e+00</td>\n",
       "      <td>1.800000e+01</td>\n",
       "      <td>9.000000e+00</td>\n",
       "      <td>1.527632e+00</td>\n",
       "    </tr>\n",
       "    <tr>\n",
       "      <th>max</th>\n",
       "      <td>4.206487e+01</td>\n",
       "      <td>-8.752823e+01</td>\n",
       "      <td>4.206485e+01</td>\n",
       "      <td>-8.752823e+01</td>\n",
       "      <td>3.285000e+01</td>\n",
       "      <td>6.000000e+00</td>\n",
       "      <td>2.300000e+01</td>\n",
       "      <td>1.200000e+01</td>\n",
       "      <td>2.538286e+00</td>\n",
       "    </tr>\n",
       "  </tbody>\n",
       "</table>\n",
       "</div>"
      ],
      "text/plain": [
       "          start_lat     start_lng       end_lat       end_lng   ride_length  \\\n",
       "count  2.880593e+06  2.880593e+06  2.880593e+06  2.880593e+06  2.880593e+06   \n",
       "mean   4.190254e+01 -8.764578e+01  4.190270e+01 -8.764607e+01  1.132218e+01   \n",
       "std    4.041336e-02  2.354988e-02  4.053805e-02  2.368591e-02  5.949802e+00   \n",
       "min    4.164850e+01 -8.783325e+01  4.164850e+01 -8.783000e+01  3.566667e+00   \n",
       "25%    4.188182e+01 -8.765862e+01  4.188189e+01 -8.765887e+01  6.800000e+00   \n",
       "50%    4.189776e+01 -8.764335e+01  4.189820e+01 -8.764395e+01  9.866667e+00   \n",
       "75%    4.192632e+01 -8.763083e+01  4.192871e+01 -8.763083e+01  1.433333e+01   \n",
       "max    4.206487e+01 -8.752823e+01  4.206485e+01 -8.752823e+01  3.285000e+01   \n",
       "\n",
       "       DayOfWeekNum     HourOfDay  month_number      distance  \n",
       "count  2.880593e+06  2.880593e+06  2.880593e+06  2.880593e+06  \n",
       "mean   3.005554e+00  1.422301e+01  6.950827e+00  1.175166e+00  \n",
       "std    1.963430e+00  4.997140e+00  2.671256e+00  5.302610e-01  \n",
       "min    0.000000e+00  0.000000e+00  1.000000e+00  4.551701e-01  \n",
       "25%    1.000000e+00  1.100000e+01  5.000000e+00  7.435540e-01  \n",
       "50%    3.000000e+00  1.500000e+01  7.000000e+00  1.046074e+00  \n",
       "75%    5.000000e+00  1.800000e+01  9.000000e+00  1.527632e+00  \n",
       "max    6.000000e+00  2.300000e+01  1.200000e+01  2.538286e+00  "
      ]
     },
     "execution_count": 36,
     "metadata": {},
     "output_type": "execute_result"
    }
   ],
   "source": [
    "# show statistics for all\n",
    "df.describe()"
   ]
  },
  {
   "cell_type": "markdown",
   "metadata": {},
   "source": [
    "Now that we have remove outliers and transformed the data set. We will look at the distribtion of distance and time"
   ]
  },
  {
   "cell_type": "markdown",
   "metadata": {},
   "source": [
    "## Average \"ride_length\" for each user group (minutes)"
   ]
  },
  {
   "cell_type": "code",
   "execution_count": 37,
   "metadata": {},
   "outputs": [
    {
     "data": {
      "text/html": [
       "<div>\n",
       "<style scoped>\n",
       "    .dataframe tbody tr th:only-of-type {\n",
       "        vertical-align: middle;\n",
       "    }\n",
       "\n",
       "    .dataframe tbody tr th {\n",
       "        vertical-align: top;\n",
       "    }\n",
       "\n",
       "    .dataframe thead th {\n",
       "        text-align: right;\n",
       "    }\n",
       "</style>\n",
       "<table border=\"1\" class=\"dataframe\">\n",
       "  <thead>\n",
       "    <tr style=\"text-align: right;\">\n",
       "      <th></th>\n",
       "      <th>ride_length</th>\n",
       "    </tr>\n",
       "    <tr>\n",
       "      <th>member_casual</th>\n",
       "      <th></th>\n",
       "    </tr>\n",
       "  </thead>\n",
       "  <tbody>\n",
       "    <tr>\n",
       "      <th>casual</th>\n",
       "      <td>12.896520</td>\n",
       "    </tr>\n",
       "    <tr>\n",
       "      <th>member</th>\n",
       "      <td>10.353966</td>\n",
       "    </tr>\n",
       "  </tbody>\n",
       "</table>\n",
       "</div>"
      ],
      "text/plain": [
       "               ride_length\n",
       "member_casual             \n",
       "casual           12.896520\n",
       "member           10.353966"
      ]
     },
     "execution_count": 37,
     "metadata": {},
     "output_type": "execute_result"
    }
   ],
   "source": [
    "#avgerage ride_length for members and casual riders\n",
    "avg_ride_length = df.pivot_table(index = ['member_casual'],values = 'ride_length')\n",
    "avg_ride_length"
   ]
  },
  {
   "cell_type": "markdown",
   "metadata": {},
   "source": [
    "On average, casuals spend 2.7 more time than members on Cyclistic bike trips, this will probably reflect in the average bike trip distance as well\n",
    "\n",
    "## Average \"ride_length\" for each user group by each day of the week"
   ]
  },
  {
   "cell_type": "code",
   "execution_count": 38,
   "metadata": {},
   "outputs": [
    {
     "data": {
      "text/html": [
       "<div>\n",
       "<style scoped>\n",
       "    .dataframe tbody tr th:only-of-type {\n",
       "        vertical-align: middle;\n",
       "    }\n",
       "\n",
       "    .dataframe tbody tr th {\n",
       "        vertical-align: top;\n",
       "    }\n",
       "\n",
       "    .dataframe thead th {\n",
       "        text-align: right;\n",
       "    }\n",
       "</style>\n",
       "<table border=\"1\" class=\"dataframe\">\n",
       "  <thead>\n",
       "    <tr style=\"text-align: right;\">\n",
       "      <th>member_casual</th>\n",
       "      <th>casual</th>\n",
       "      <th>member</th>\n",
       "    </tr>\n",
       "    <tr>\n",
       "      <th>DayOfWeek</th>\n",
       "      <th></th>\n",
       "      <th></th>\n",
       "    </tr>\n",
       "  </thead>\n",
       "  <tbody>\n",
       "    <tr>\n",
       "      <th>Friday</th>\n",
       "      <td>12.739160</td>\n",
       "      <td>10.279270</td>\n",
       "    </tr>\n",
       "    <tr>\n",
       "      <th>Monday</th>\n",
       "      <td>12.686314</td>\n",
       "      <td>10.048492</td>\n",
       "    </tr>\n",
       "    <tr>\n",
       "      <th>Saturday</th>\n",
       "      <td>14.004535</td>\n",
       "      <td>11.207356</td>\n",
       "    </tr>\n",
       "    <tr>\n",
       "      <th>Sunday</th>\n",
       "      <td>13.867428</td>\n",
       "      <td>11.074177</td>\n",
       "    </tr>\n",
       "    <tr>\n",
       "      <th>Thursday</th>\n",
       "      <td>12.146780</td>\n",
       "      <td>10.159512</td>\n",
       "    </tr>\n",
       "    <tr>\n",
       "      <th>Tuesday</th>\n",
       "      <td>11.928559</td>\n",
       "      <td>9.975052</td>\n",
       "    </tr>\n",
       "    <tr>\n",
       "      <th>Wednesday</th>\n",
       "      <td>11.971549</td>\n",
       "      <td>10.091026</td>\n",
       "    </tr>\n",
       "  </tbody>\n",
       "</table>\n",
       "</div>"
      ],
      "text/plain": [
       "member_casual     casual     member\n",
       "DayOfWeek                          \n",
       "Friday         12.739160  10.279270\n",
       "Monday         12.686314  10.048492\n",
       "Saturday       14.004535  11.207356\n",
       "Sunday         13.867428  11.074177\n",
       "Thursday       12.146780  10.159512\n",
       "Tuesday        11.928559   9.975052\n",
       "Wednesday      11.971549  10.091026"
      ]
     },
     "execution_count": 38,
     "metadata": {},
     "output_type": "execute_result"
    }
   ],
   "source": [
    "#avgerage ride_length for members and casual riders by day\n",
    "avg_ride_length_by_day = df.pivot_table(index = ['DayOfWeek'],values = 'ride_length', columns =['member_casual'])\n",
    "avg_ride_length_by_day"
   ]
  },
  {
   "cell_type": "code",
   "execution_count": 39,
   "metadata": {},
   "outputs": [
    {
     "data": {
      "image/png": "[encoded data removed]",
      "text/plain": [
       "<Figure size 720x576 with 1 Axes>"
      ]
     },
     "metadata": {
      "needs_background": "light"
     },
     "output_type": "display_data"
    }
   ],
   "source": [
    "#Compare Rides by day of the week\n",
    "avg_ride_length_by_day.plot(kind = 'bar', figsize=(10,8))\n",
    "plt.ylabel('\\nTotal no.of rides\\n', fontsize=20)\n",
    "plt.xlabel('\\nDays of the Week\\n', fontsize=20)\n",
    "plt.title('\\nRides by Day of Week\\n', fontsize=20)\n",
    "plt.savefig(\"Barplot:Compare Rides by day of the week.png\")\n",
    "plt.show();"
   ]
  },
  {
   "cell_type": "markdown",
   "metadata": {},
   "source": [
    "On average Casual cyclist take longer rides than on member cyclists rides especially on weekends (saturday and sunday).\n",
    "However on weekends both groups have their longest ride time compared to the rest of the days. The company can look into bikes which can handle long rides, quality and look to improve conversion\n",
    "\n",
    "\n",
    "## Busiest days of the week for each group"
   ]
  },
  {
   "cell_type": "code",
   "execution_count": 40,
   "metadata": {},
   "outputs": [
    {
     "data": {
      "text/html": [
       "<div>\n",
       "<style scoped>\n",
       "    .dataframe tbody tr th:only-of-type {\n",
       "        vertical-align: middle;\n",
       "    }\n",
       "\n",
       "    .dataframe tbody tr th {\n",
       "        vertical-align: top;\n",
       "    }\n",
       "\n",
       "    .dataframe thead th {\n",
       "        text-align: right;\n",
       "    }\n",
       "</style>\n",
       "<table border=\"1\" class=\"dataframe\">\n",
       "  <thead>\n",
       "    <tr style=\"text-align: right;\">\n",
       "      <th></th>\n",
       "      <th>member_casual</th>\n",
       "      <th>casual</th>\n",
       "      <th>member</th>\n",
       "    </tr>\n",
       "    <tr>\n",
       "      <th>DayOfWeekNum</th>\n",
       "      <th>DayOfWeek</th>\n",
       "      <th></th>\n",
       "      <th></th>\n",
       "    </tr>\n",
       "  </thead>\n",
       "  <tbody>\n",
       "    <tr>\n",
       "      <th>0</th>\n",
       "      <th>Monday</th>\n",
       "      <td>128004.0</td>\n",
       "      <td>254891.0</td>\n",
       "    </tr>\n",
       "    <tr>\n",
       "      <th>1</th>\n",
       "      <th>Tuesday</th>\n",
       "      <td>129241.0</td>\n",
       "      <td>289117.0</td>\n",
       "    </tr>\n",
       "    <tr>\n",
       "      <th>2</th>\n",
       "      <th>Wednesday</th>\n",
       "      <td>134648.0</td>\n",
       "      <td>285537.0</td>\n",
       "    </tr>\n",
       "    <tr>\n",
       "      <th>3</th>\n",
       "      <th>Thursday</th>\n",
       "      <td>150141.0</td>\n",
       "      <td>283559.0</td>\n",
       "    </tr>\n",
       "    <tr>\n",
       "      <th>4</th>\n",
       "      <th>Friday</th>\n",
       "      <td>159189.0</td>\n",
       "      <td>245846.0</td>\n",
       "    </tr>\n",
       "    <tr>\n",
       "      <th>5</th>\n",
       "      <th>Saturday</th>\n",
       "      <td>218558.0</td>\n",
       "      <td>226153.0</td>\n",
       "    </tr>\n",
       "    <tr>\n",
       "      <th>6</th>\n",
       "      <th>Sunday</th>\n",
       "      <td>177158.0</td>\n",
       "      <td>198551.0</td>\n",
       "    </tr>\n",
       "  </tbody>\n",
       "</table>\n",
       "</div>"
      ],
      "text/plain": [
       "member_casual             casual    member\n",
       "DayOfWeekNum DayOfWeek                    \n",
       "0            Monday     128004.0  254891.0\n",
       "1            Tuesday    129241.0  289117.0\n",
       "2            Wednesday  134648.0  285537.0\n",
       "3            Thursday   150141.0  283559.0\n",
       "4            Friday     159189.0  245846.0\n",
       "5            Saturday   218558.0  226153.0\n",
       "6            Sunday     177158.0  198551.0"
      ]
     },
     "execution_count": 40,
     "metadata": {},
     "output_type": "execute_result"
    }
   ],
   "source": [
    "# Busiest days of the week\n",
    "weekday_rides = df.pivot_table(index = ['DayOfWeekNum','DayOfWeek'],values = 'ride_id', columns =['member_casual'], aggfunc = 'count')\n",
    "weekday_rides"
   ]
  },
  {
   "cell_type": "code",
   "execution_count": 41,
   "metadata": {},
   "outputs": [
    {
     "data": {
      "image/png": "[encoded data removed]",
      "text/plain": [
       "<Figure size 1080x576 with 1 Axes>"
      ]
     },
     "metadata": {
      "needs_background": "light"
     },
     "output_type": "display_data"
    }
   ],
   "source": [
    "#Compare Rides by day of the week\n",
    "weekday_rides.plot(kind = 'bar', figsize=(15,8))\n",
    "plt.ylabel('\\nTotal no.of rides\\n', fontsize=20)\n",
    "plt.xlabel('\\nDays of the Week\\n', fontsize=20)\n",
    "plt.title('\\nRides by Day of Week per Member_Casual\\n', fontsize=20)\n",
    "plt.savefig(\"Barplot:Compare Rides by day of the week.png\")\n",
    "plt.show();"
   ]
  },
  {
   "cell_type": "markdown",
   "metadata": {},
   "source": [
    "Tuesdays, Wednesday & Thursday are the busiest days for member groups. Probably because they have to go to work while\n",
    "Saturday, Sunday and Friday are the busiest for casual group because probably for leisure \n",
    "\n",
    "## Total Rides by day of the week & bike type"
   ]
  },
  {
   "cell_type": "code",
   "execution_count": 42,
   "metadata": {},
   "outputs": [
    {
     "data": {
      "text/html": [
       "<div>\n",
       "<style scoped>\n",
       "    .dataframe tbody tr th:only-of-type {\n",
       "        vertical-align: middle;\n",
       "    }\n",
       "\n",
       "    .dataframe tbody tr th {\n",
       "        vertical-align: top;\n",
       "    }\n",
       "\n",
       "    .dataframe thead tr th {\n",
       "        text-align: left;\n",
       "    }\n",
       "\n",
       "    .dataframe thead tr:last-of-type th {\n",
       "        text-align: right;\n",
       "    }\n",
       "</style>\n",
       "<table border=\"1\" class=\"dataframe\">\n",
       "  <thead>\n",
       "    <tr>\n",
       "      <th></th>\n",
       "      <th>member_casual</th>\n",
       "      <th colspan=\"3\" halign=\"left\">casual</th>\n",
       "      <th colspan=\"2\" halign=\"left\">member</th>\n",
       "    </tr>\n",
       "    <tr>\n",
       "      <th></th>\n",
       "      <th>rideable_type</th>\n",
       "      <th>classic_bike</th>\n",
       "      <th>docked_bike</th>\n",
       "      <th>electric_bike</th>\n",
       "      <th>classic_bike</th>\n",
       "      <th>electric_bike</th>\n",
       "    </tr>\n",
       "    <tr>\n",
       "      <th>DayOfWeekNum</th>\n",
       "      <th>DayOfWeek</th>\n",
       "      <th></th>\n",
       "      <th></th>\n",
       "      <th></th>\n",
       "      <th></th>\n",
       "      <th></th>\n",
       "    </tr>\n",
       "  </thead>\n",
       "  <tbody>\n",
       "    <tr>\n",
       "      <th>0</th>\n",
       "      <th>Monday</th>\n",
       "      <td>63873.0</td>\n",
       "      <td>8944.0</td>\n",
       "      <td>55187.0</td>\n",
       "      <td>166911.0</td>\n",
       "      <td>87980.0</td>\n",
       "    </tr>\n",
       "    <tr>\n",
       "      <th>1</th>\n",
       "      <th>Tuesday</th>\n",
       "      <td>63663.0</td>\n",
       "      <td>7726.0</td>\n",
       "      <td>57852.0</td>\n",
       "      <td>187841.0</td>\n",
       "      <td>101276.0</td>\n",
       "    </tr>\n",
       "    <tr>\n",
       "      <th>2</th>\n",
       "      <th>Wednesday</th>\n",
       "      <td>65568.0</td>\n",
       "      <td>7792.0</td>\n",
       "      <td>61288.0</td>\n",
       "      <td>183276.0</td>\n",
       "      <td>102261.0</td>\n",
       "    </tr>\n",
       "    <tr>\n",
       "      <th>3</th>\n",
       "      <th>Thursday</th>\n",
       "      <td>74889.0</td>\n",
       "      <td>8566.0</td>\n",
       "      <td>66686.0</td>\n",
       "      <td>181716.0</td>\n",
       "      <td>101843.0</td>\n",
       "    </tr>\n",
       "    <tr>\n",
       "      <th>4</th>\n",
       "      <th>Friday</th>\n",
       "      <td>79606.0</td>\n",
       "      <td>10434.0</td>\n",
       "      <td>69149.0</td>\n",
       "      <td>157665.0</td>\n",
       "      <td>88181.0</td>\n",
       "    </tr>\n",
       "    <tr>\n",
       "      <th>5</th>\n",
       "      <th>Saturday</th>\n",
       "      <td>119774.0</td>\n",
       "      <td>16574.0</td>\n",
       "      <td>82210.0</td>\n",
       "      <td>151863.0</td>\n",
       "      <td>74290.0</td>\n",
       "    </tr>\n",
       "    <tr>\n",
       "      <th>6</th>\n",
       "      <th>Sunday</th>\n",
       "      <td>95233.0</td>\n",
       "      <td>14036.0</td>\n",
       "      <td>67889.0</td>\n",
       "      <td>133580.0</td>\n",
       "      <td>64971.0</td>\n",
       "    </tr>\n",
       "  </tbody>\n",
       "</table>\n",
       "</div>"
      ],
      "text/plain": [
       "member_casual                casual                                 member  \\\n",
       "rideable_type          classic_bike docked_bike electric_bike classic_bike   \n",
       "DayOfWeekNum DayOfWeek                                                       \n",
       "0            Monday         63873.0      8944.0       55187.0     166911.0   \n",
       "1            Tuesday        63663.0      7726.0       57852.0     187841.0   \n",
       "2            Wednesday      65568.0      7792.0       61288.0     183276.0   \n",
       "3            Thursday       74889.0      8566.0       66686.0     181716.0   \n",
       "4            Friday         79606.0     10434.0       69149.0     157665.0   \n",
       "5            Saturday      119774.0     16574.0       82210.0     151863.0   \n",
       "6            Sunday         95233.0     14036.0       67889.0     133580.0   \n",
       "\n",
       "member_casual                         \n",
       "rideable_type          electric_bike  \n",
       "DayOfWeekNum DayOfWeek                \n",
       "0            Monday          87980.0  \n",
       "1            Tuesday        101276.0  \n",
       "2            Wednesday      102261.0  \n",
       "3            Thursday       101843.0  \n",
       "4            Friday          88181.0  \n",
       "5            Saturday        74290.0  \n",
       "6            Sunday          64971.0  "
      ]
     },
     "execution_count": 42,
     "metadata": {},
     "output_type": "execute_result"
    }
   ],
   "source": [
    "weekday_rides = df.pivot_table(index = ['DayOfWeekNum','DayOfWeek'],values = 'ride_id', columns =['member_casual','rideable_type'], aggfunc = 'count')\n",
    "weekday_rides"
   ]
  },
  {
   "cell_type": "code",
   "execution_count": 43,
   "metadata": {},
   "outputs": [
    {
     "data": {
      "image/png": "[encoded data removed]",
      "text/plain": [
       "<Figure size 1080x576 with 1 Axes>"
      ]
     },
     "metadata": {
      "needs_background": "light"
     },
     "output_type": "display_data"
    }
   ],
   "source": [
    "#Compare Rides by day of the week & bike type\n",
    "weekday_rides.plot(kind = 'bar', figsize=(15,8))\n",
    "plt.ylabel('\\nTotal no.of rides\\n', fontsize=20)\n",
    "plt.xlabel('\\nDays of the Week\\n', fontsize=20)\n",
    "plt.title('\\nRides by Day of Week\\n', fontsize=20)\n",
    "plt.savefig(\"Barplot:Compare Rides by day of the week & bike type.png\")\n",
    "plt.show();"
   ]
  },
  {
   "cell_type": "markdown",
   "metadata": {},
   "source": [
    "The classic_bike is the top most used by both groups through out the week mostly during weekdays (Tuesdays, Wednesday & Thursday) for member user group and (saturday and sunday) for casual user group . The electric_bike is mostly used on weekends especialy on saturday by the casual group  while for members its mostly used on Tuesday, Wednesday and Thursdays. \n",
    "\n",
    "The docked_bike is mostly used by casual group on the weekend especially saturday.\n",
    "\n",
    "The member group doesnt use docked_bikes.\n",
    "\n",
    "\n",
    "\n",
    "## Busiest Hour used by Cyclists"
   ]
  },
  {
   "cell_type": "code",
   "execution_count": 44,
   "metadata": {},
   "outputs": [
    {
     "data": {
      "image/png": "[encoded data removed]",
      "text/plain": [
       "<Figure size 1080x576 with 1 Axes>"
      ]
     },
     "metadata": {
      "needs_background": "light"
     },
     "output_type": "display_data"
    }
   ],
   "source": [
    "#Compare number of rides by hour of day\n",
    "#fig = plt.figure(figsize = (50,20))\n",
    "df_hour = df.pivot_table(index=['HourOfDay'],values='ride_id', columns =['member_casual'],aggfunc='count')\n",
    "df_hour.plot(kind='bar',figsize=(15,8))\n",
    "plt.xlabel('\\nHour of the Day\\n', fontsize=20)\n",
    "plt.ylabel('\\nAverage Rides\\n', fontsize=20)\n",
    "plt.title('\\nRides by Hour of Day\\n', fontsize=20)\n",
    "plt.savefig(\"Barplot:Compare Rides by hour of day.png\")\n",
    "plt.show()\n",
    "plt.close();"
   ]
  },
  {
   "cell_type": "markdown",
   "metadata": {},
   "source": [
    "Casual cyclist tend to ride bikes between 7 to 9 am and highest between 4pm to 7pm.\n",
    "\n",
    "Member cyclists tend to ride bike 7 to 9 am and highest between 3pm to 6pm. Lets visualize with a heat map to compare\n",
    "\n",
    "\n",
    "## Peak Hours by Week"
   ]
  },
  {
   "cell_type": "code",
   "execution_count": 45,
   "metadata": {},
   "outputs": [
    {
     "data": {
      "image/png": "[encoded data removed]",
      "text/plain": [
       "<Figure size 1080x576 with 1 Axes>"
      ]
     },
     "metadata": {
      "needs_background": "light"
     },
     "output_type": "display_data"
    }
   ],
   "source": [
    "#Identification of peak hours in each day of the week\n",
    "fig = plt.figure(figsize = (15,8))\n",
    "ax=fig.add_subplot(111)  \n",
    "sns.violinplot(x='DayOfWeekNum', y='HourOfDay', hue='member_casual',data = df)\n",
    "ax.set_xticklabels(['Monday','Tuesday','Wednesday','Thursday','Friday','Saturday','Sunday'])\n",
    "ax.set(xlabel = 'Day of Week',yticks = np.arange(0,26,2),title = 'Rides by hour of the day per day of the week')\n",
    "plt.savefig(\"Violinplot:Peak hours in each day of the week.png\")\n",
    "plt.show();"
   ]
  },
  {
   "cell_type": "markdown",
   "metadata": {},
   "source": [
    "On average peak hours are around 4 pm for casual groups on weekdays and around 2 to 3pm on weekends. For member group\n",
    "peak hours are around 3 pm on monday to friday and around 2pm on weekends"
   ]
  },
  {
   "cell_type": "markdown",
   "metadata": {},
   "source": [
    "## Busiest Stations by Group\n",
    "\n",
    "Do member_casual very by start station. Which stations are frequently visited"
   ]
  },
  {
   "cell_type": "code",
   "execution_count": 46,
   "metadata": {},
   "outputs": [
    {
     "data": {
      "text/html": [
       "<div>\n",
       "<style scoped>\n",
       "    .dataframe tbody tr th:only-of-type {\n",
       "        vertical-align: middle;\n",
       "    }\n",
       "\n",
       "    .dataframe tbody tr th {\n",
       "        vertical-align: top;\n",
       "    }\n",
       "\n",
       "    .dataframe thead th {\n",
       "        text-align: right;\n",
       "    }\n",
       "</style>\n",
       "<table border=\"1\" class=\"dataframe\">\n",
       "  <thead>\n",
       "    <tr style=\"text-align: right;\">\n",
       "      <th>start_station_name</th>\n",
       "      <th>10101 S Stony Island Ave</th>\n",
       "      <th>111th St - Morgan Park Metra</th>\n",
       "      <th>2112 W Peterson Ave</th>\n",
       "      <th>532 E 43rd St</th>\n",
       "      <th>63rd &amp; Western Ave - north corner</th>\n",
       "      <th>63rd &amp; Western Ave - south corner</th>\n",
       "      <th>63rd St Beach</th>\n",
       "      <th>900 W Harrison St</th>\n",
       "      <th>Abbott Park</th>\n",
       "      <th>Aberdeen St &amp; Jackson Blvd</th>\n",
       "      <th>...</th>\n",
       "      <th>Wood St &amp; Taylor St (Temp)</th>\n",
       "      <th>Wood St &amp; Webster Ave</th>\n",
       "      <th>Woodlawn &amp; 103rd - Olive Harvey Vaccination Site</th>\n",
       "      <th>Woodlawn Ave &amp; 55th St</th>\n",
       "      <th>Woodlawn Ave &amp; 75th St</th>\n",
       "      <th>Woodlawn Ave &amp; Lake Park Ave</th>\n",
       "      <th>Yates Blvd &amp; 75th St</th>\n",
       "      <th>Yates Blvd &amp; 93rd St</th>\n",
       "      <th>Yates Blvd &amp; Exchange Ave</th>\n",
       "      <th>Zapata Academy</th>\n",
       "    </tr>\n",
       "    <tr>\n",
       "      <th>member_casual</th>\n",
       "      <th></th>\n",
       "      <th></th>\n",
       "      <th></th>\n",
       "      <th></th>\n",
       "      <th></th>\n",
       "      <th></th>\n",
       "      <th></th>\n",
       "      <th></th>\n",
       "      <th></th>\n",
       "      <th></th>\n",
       "      <th></th>\n",
       "      <th></th>\n",
       "      <th></th>\n",
       "      <th></th>\n",
       "      <th></th>\n",
       "      <th></th>\n",
       "      <th></th>\n",
       "      <th></th>\n",
       "      <th></th>\n",
       "      <th></th>\n",
       "      <th></th>\n",
       "    </tr>\n",
       "  </thead>\n",
       "  <tbody>\n",
       "    <tr>\n",
       "      <th>casual</th>\n",
       "      <td>1.0</td>\n",
       "      <td>3.0</td>\n",
       "      <td>244.0</td>\n",
       "      <td>3.0</td>\n",
       "      <td>1.0</td>\n",
       "      <td>2.0</td>\n",
       "      <td>183.0</td>\n",
       "      <td>2284.0</td>\n",
       "      <td>NaN</td>\n",
       "      <td>2141.0</td>\n",
       "      <td>...</td>\n",
       "      <td>628.0</td>\n",
       "      <td>421.0</td>\n",
       "      <td>28.0</td>\n",
       "      <td>1237.0</td>\n",
       "      <td>32.0</td>\n",
       "      <td>136.0</td>\n",
       "      <td>81.0</td>\n",
       "      <td>7.0</td>\n",
       "      <td>3.0</td>\n",
       "      <td>1.0</td>\n",
       "    </tr>\n",
       "    <tr>\n",
       "      <th>member</th>\n",
       "      <td>NaN</td>\n",
       "      <td>1.0</td>\n",
       "      <td>388.0</td>\n",
       "      <td>7.0</td>\n",
       "      <td>NaN</td>\n",
       "      <td>4.0</td>\n",
       "      <td>183.0</td>\n",
       "      <td>6134.0</td>\n",
       "      <td>1.0</td>\n",
       "      <td>5923.0</td>\n",
       "      <td>...</td>\n",
       "      <td>4068.0</td>\n",
       "      <td>396.0</td>\n",
       "      <td>6.0</td>\n",
       "      <td>2764.0</td>\n",
       "      <td>16.0</td>\n",
       "      <td>491.0</td>\n",
       "      <td>58.0</td>\n",
       "      <td>23.0</td>\n",
       "      <td>NaN</td>\n",
       "      <td>NaN</td>\n",
       "    </tr>\n",
       "  </tbody>\n",
       "</table>\n",
       "<p>2 rows × 1446 columns</p>\n",
       "</div>"
      ],
      "text/plain": [
       "start_station_name  10101 S Stony Island Ave  111th St - Morgan Park Metra  \\\n",
       "member_casual                                                                \n",
       "casual                                   1.0                           3.0   \n",
       "member                                   NaN                           1.0   \n",
       "\n",
       "start_station_name  2112 W Peterson Ave  532 E 43rd St  \\\n",
       "member_casual                                            \n",
       "casual                            244.0            3.0   \n",
       "member                            388.0            7.0   \n",
       "\n",
       "start_station_name  63rd & Western Ave - north corner  \\\n",
       "member_casual                                           \n",
       "casual                                            1.0   \n",
       "member                                            NaN   \n",
       "\n",
       "start_station_name  63rd & Western Ave - south corner  63rd St Beach  \\\n",
       "member_casual                                                          \n",
       "casual                                            2.0          183.0   \n",
       "member                                            4.0          183.0   \n",
       "\n",
       "start_station_name  900 W Harrison St  Abbott Park  \\\n",
       "member_casual                                        \n",
       "casual                         2284.0          NaN   \n",
       "member                         6134.0          1.0   \n",
       "\n",
       "start_station_name  Aberdeen St & Jackson Blvd  ...  \\\n",
       "member_casual                                   ...   \n",
       "casual                                  2141.0  ...   \n",
       "member                                  5923.0  ...   \n",
       "\n",
       "start_station_name  Wood St & Taylor St (Temp)  Wood St & Webster Ave  \\\n",
       "member_casual                                                           \n",
       "casual                                   628.0                  421.0   \n",
       "member                                  4068.0                  396.0   \n",
       "\n",
       "start_station_name  Woodlawn & 103rd - Olive Harvey Vaccination Site  \\\n",
       "member_casual                                                          \n",
       "casual                                                          28.0   \n",
       "member                                                           6.0   \n",
       "\n",
       "start_station_name  Woodlawn Ave & 55th St  Woodlawn Ave & 75th St  \\\n",
       "member_casual                                                        \n",
       "casual                              1237.0                    32.0   \n",
       "member                              2764.0                    16.0   \n",
       "\n",
       "start_station_name  Woodlawn Ave & Lake Park Ave  Yates Blvd & 75th St  \\\n",
       "member_casual                                                            \n",
       "casual                                     136.0                  81.0   \n",
       "member                                     491.0                  58.0   \n",
       "\n",
       "start_station_name  Yates Blvd & 93rd St  Yates Blvd & Exchange Ave  \\\n",
       "member_casual                                                         \n",
       "casual                               7.0                        3.0   \n",
       "member                              23.0                        NaN   \n",
       "\n",
       "start_station_name  Zapata Academy  \n",
       "member_casual                       \n",
       "casual                         1.0  \n",
       "member                         NaN  \n",
       "\n",
       "[2 rows x 1446 columns]"
      ]
     },
     "execution_count": 46,
     "metadata": {},
     "output_type": "execute_result"
    }
   ],
   "source": [
    "df_station = df.pivot_table(index=['member_casual'],values='ride_id', columns =['start_station_name'],aggfunc='count')\n",
    "df_station"
   ]
  },
  {
   "cell_type": "code",
   "execution_count": 47,
   "metadata": {},
   "outputs": [],
   "source": [
    "#fig = plt.figure(figsize = (20,15))\n",
    "#sns.heatmap(df_station, annot=df_station.rank(axis=\"columns\"))\n",
    "#plt.savefig(\"Heatmap:Compare Stations by member_casual.png\")\n",
    "#plt.title('\\nBusiest Stations\\n',fontsize=20)\n",
    "#plt.show();"
   ]
  },
  {
   "cell_type": "markdown",
   "metadata": {},
   "source": [
    "## Rides by  Month"
   ]
  },
  {
   "cell_type": "code",
   "execution_count": 48,
   "metadata": {},
   "outputs": [
    {
     "data": {
      "text/html": [
       "<div>\n",
       "<style scoped>\n",
       "    .dataframe tbody tr th:only-of-type {\n",
       "        vertical-align: middle;\n",
       "    }\n",
       "\n",
       "    .dataframe tbody tr th {\n",
       "        vertical-align: top;\n",
       "    }\n",
       "\n",
       "    .dataframe thead th {\n",
       "        text-align: right;\n",
       "    }\n",
       "</style>\n",
       "<table border=\"1\" class=\"dataframe\">\n",
       "  <thead>\n",
       "    <tr style=\"text-align: right;\">\n",
       "      <th>member_casual</th>\n",
       "      <th>casual</th>\n",
       "      <th>member</th>\n",
       "    </tr>\n",
       "    <tr>\n",
       "      <th>month_number</th>\n",
       "      <th></th>\n",
       "      <th></th>\n",
       "    </tr>\n",
       "  </thead>\n",
       "  <tbody>\n",
       "    <tr>\n",
       "      <th>1</th>\n",
       "      <td>20010</td>\n",
       "      <td>77675</td>\n",
       "    </tr>\n",
       "    <tr>\n",
       "      <th>2</th>\n",
       "      <td>21125</td>\n",
       "      <td>75397</td>\n",
       "    </tr>\n",
       "    <tr>\n",
       "      <th>3</th>\n",
       "      <td>39323</td>\n",
       "      <td>99588</td>\n",
       "    </tr>\n",
       "    <tr>\n",
       "      <th>4</th>\n",
       "      <td>54888</td>\n",
       "      <td>120453</td>\n",
       "    </tr>\n",
       "    <tr>\n",
       "      <th>5</th>\n",
       "      <td>126436</td>\n",
       "      <td>184794</td>\n",
       "    </tr>\n",
       "    <tr>\n",
       "      <th>6</th>\n",
       "      <td>176390</td>\n",
       "      <td>217414</td>\n",
       "    </tr>\n",
       "    <tr>\n",
       "      <th>7</th>\n",
       "      <td>185228</td>\n",
       "      <td>216578</td>\n",
       "    </tr>\n",
       "    <tr>\n",
       "      <th>8</th>\n",
       "      <td>166031</td>\n",
       "      <td>221199</td>\n",
       "    </tr>\n",
       "    <tr>\n",
       "      <th>9</th>\n",
       "      <td>140067</td>\n",
       "      <td>207730</td>\n",
       "    </tr>\n",
       "    <tr>\n",
       "      <th>10</th>\n",
       "      <td>96992</td>\n",
       "      <td>172995</td>\n",
       "    </tr>\n",
       "    <tr>\n",
       "      <th>11</th>\n",
       "      <td>48726</td>\n",
       "      <td>120456</td>\n",
       "    </tr>\n",
       "    <tr>\n",
       "      <th>12</th>\n",
       "      <td>21723</td>\n",
       "      <td>69375</td>\n",
       "    </tr>\n",
       "  </tbody>\n",
       "</table>\n",
       "</div>"
      ],
      "text/plain": [
       "member_casual  casual  member\n",
       "month_number                 \n",
       "1               20010   77675\n",
       "2               21125   75397\n",
       "3               39323   99588\n",
       "4               54888  120453\n",
       "5              126436  184794\n",
       "6              176390  217414\n",
       "7              185228  216578\n",
       "8              166031  221199\n",
       "9              140067  207730\n",
       "10              96992  172995\n",
       "11              48726  120456\n",
       "12              21723   69375"
      ]
     },
     "execution_count": 48,
     "metadata": {},
     "output_type": "execute_result"
    }
   ],
   "source": [
    "# Busiest Months\n",
    "monthly_rides = df.pivot_table(index = ['month_number'],values = 'ride_id', columns =['member_casual'], aggfunc = 'count')\n",
    "monthly_rides"
   ]
  },
  {
   "cell_type": "code",
   "execution_count": 49,
   "metadata": {},
   "outputs": [
    {
     "data": {
      "image/png": "[encoded data removed]",
      "text/plain": [
       "<Figure size 1080x576 with 1 Axes>"
      ]
     },
     "metadata": {
      "needs_background": "light"
     },
     "output_type": "display_data"
    }
   ],
   "source": [
    "#Compare Rides by day Month\n",
    "monthly_rides.plot(kind = 'line', figsize=(15,8))\n",
    "plt.ylabel('Total no.of rides')\n",
    "plt.title('Rides by Month')\n",
    "plt.savefig(\"Lineplot:Compare Rides by Month.png\")\n",
    "plt.show();\n",
    "#sns.lineplot(data=monthly_rides, x=\"year\", y=\"passengers\")"
   ]
  },
  {
   "cell_type": "markdown",
   "metadata": {},
   "source": [
    "Top peak months are between June, July, August for casual bike rides group while for member groups, June, July monts are their busiest\n",
    "\n",
    "January, February and November and December are the least busiest months for both group\n",
    "\n",
    "## Rides by Season"
   ]
  },
  {
   "cell_type": "code",
   "execution_count": 50,
   "metadata": {},
   "outputs": [
    {
     "data": {
      "text/html": [
       "<div>\n",
       "<style scoped>\n",
       "    .dataframe tbody tr th:only-of-type {\n",
       "        vertical-align: middle;\n",
       "    }\n",
       "\n",
       "    .dataframe tbody tr th {\n",
       "        vertical-align: top;\n",
       "    }\n",
       "\n",
       "    .dataframe thead th {\n",
       "        text-align: right;\n",
       "    }\n",
       "</style>\n",
       "<table border=\"1\" class=\"dataframe\">\n",
       "  <thead>\n",
       "    <tr style=\"text-align: right;\">\n",
       "      <th>member_casual</th>\n",
       "      <th>casual</th>\n",
       "      <th>member</th>\n",
       "    </tr>\n",
       "    <tr>\n",
       "      <th>Season</th>\n",
       "      <th></th>\n",
       "      <th></th>\n",
       "    </tr>\n",
       "  </thead>\n",
       "  <tbody>\n",
       "    <tr>\n",
       "      <th>Fall</th>\n",
       "      <td>285785</td>\n",
       "      <td>501181</td>\n",
       "    </tr>\n",
       "    <tr>\n",
       "      <th>Spring</th>\n",
       "      <td>220647</td>\n",
       "      <td>404835</td>\n",
       "    </tr>\n",
       "    <tr>\n",
       "      <th>Summer</th>\n",
       "      <td>527649</td>\n",
       "      <td>655191</td>\n",
       "    </tr>\n",
       "    <tr>\n",
       "      <th>Winter</th>\n",
       "      <td>62858</td>\n",
       "      <td>222447</td>\n",
       "    </tr>\n",
       "  </tbody>\n",
       "</table>\n",
       "</div>"
      ],
      "text/plain": [
       "member_casual  casual  member\n",
       "Season                       \n",
       "Fall           285785  501181\n",
       "Spring         220647  404835\n",
       "Summer         527649  655191\n",
       "Winter          62858  222447"
      ]
     },
     "execution_count": 50,
     "metadata": {},
     "output_type": "execute_result"
    }
   ],
   "source": [
    "# Busiest Seasons\n",
    "season_rides = df.pivot_table(index = ['Season'],values = 'ride_id', columns =['member_casual'], aggfunc = 'count')\n",
    "season_rides"
   ]
  },
  {
   "cell_type": "code",
   "execution_count": 51,
   "metadata": {},
   "outputs": [
    {
     "data": {
      "image/png": "[encoded data removed]",
      "text/plain": [
       "<Figure size 1080x576 with 1 Axes>"
      ]
     },
     "metadata": {
      "needs_background": "light"
     },
     "output_type": "display_data"
    }
   ],
   "source": [
    "#Compare Rides by Season\n",
    "season_rides.plot(kind = 'line', figsize=(15,8))\n",
    "plt.ylabel('Total no.of rides')\n",
    "plt.title('Rides by Season')\n",
    "plt.savefig(\"Lineplot:Compare Rides by Season.png\")\n",
    "plt.show();"
   ]
  },
  {
   "cell_type": "markdown",
   "metadata": {},
   "source": [
    "No suprise there. Top pick seasons are in the summer for both members and casuals and lowest during winter"
   ]
  },
  {
   "cell_type": "code",
   "execution_count": 52,
   "metadata": {},
   "outputs": [
    {
     "data": {
      "text/html": [
       "<div>\n",
       "<style scoped>\n",
       "    .dataframe tbody tr th:only-of-type {\n",
       "        vertical-align: middle;\n",
       "    }\n",
       "\n",
       "    .dataframe tbody tr th {\n",
       "        vertical-align: top;\n",
       "    }\n",
       "\n",
       "    .dataframe thead th {\n",
       "        text-align: right;\n",
       "    }\n",
       "</style>\n",
       "<table border=\"1\" class=\"dataframe\">\n",
       "  <thead>\n",
       "    <tr style=\"text-align: right;\">\n",
       "      <th></th>\n",
       "      <th>member_casual</th>\n",
       "      <th>casual</th>\n",
       "      <th>member</th>\n",
       "    </tr>\n",
       "    <tr>\n",
       "      <th>rideable_type</th>\n",
       "      <th>Season</th>\n",
       "      <th></th>\n",
       "      <th></th>\n",
       "    </tr>\n",
       "  </thead>\n",
       "  <tbody>\n",
       "    <tr>\n",
       "      <th rowspan=\"4\" valign=\"top\">classic_bike</th>\n",
       "      <th>Fall</th>\n",
       "      <td>128346.0</td>\n",
       "      <td>306493.0</td>\n",
       "    </tr>\n",
       "    <tr>\n",
       "      <th>Spring</th>\n",
       "      <td>124207.0</td>\n",
       "      <td>275190.0</td>\n",
       "    </tr>\n",
       "    <tr>\n",
       "      <th>Summer</th>\n",
       "      <td>282103.0</td>\n",
       "      <td>442638.0</td>\n",
       "    </tr>\n",
       "    <tr>\n",
       "      <th>Winter</th>\n",
       "      <td>27950.0</td>\n",
       "      <td>138531.0</td>\n",
       "    </tr>\n",
       "    <tr>\n",
       "      <th rowspan=\"4\" valign=\"top\">docked_bike</th>\n",
       "      <th>Fall</th>\n",
       "      <td>17279.0</td>\n",
       "      <td>NaN</td>\n",
       "    </tr>\n",
       "    <tr>\n",
       "      <th>Spring</th>\n",
       "      <td>19136.0</td>\n",
       "      <td>NaN</td>\n",
       "    </tr>\n",
       "    <tr>\n",
       "      <th>Summer</th>\n",
       "      <td>34532.0</td>\n",
       "      <td>NaN</td>\n",
       "    </tr>\n",
       "    <tr>\n",
       "      <th>Winter</th>\n",
       "      <td>3125.0</td>\n",
       "      <td>NaN</td>\n",
       "    </tr>\n",
       "    <tr>\n",
       "      <th rowspan=\"4\" valign=\"top\">electric_bike</th>\n",
       "      <th>Fall</th>\n",
       "      <td>140160.0</td>\n",
       "      <td>194688.0</td>\n",
       "    </tr>\n",
       "    <tr>\n",
       "      <th>Spring</th>\n",
       "      <td>77304.0</td>\n",
       "      <td>129645.0</td>\n",
       "    </tr>\n",
       "    <tr>\n",
       "      <th>Summer</th>\n",
       "      <td>211014.0</td>\n",
       "      <td>212553.0</td>\n",
       "    </tr>\n",
       "    <tr>\n",
       "      <th>Winter</th>\n",
       "      <td>31783.0</td>\n",
       "      <td>83916.0</td>\n",
       "    </tr>\n",
       "  </tbody>\n",
       "</table>\n",
       "</div>"
      ],
      "text/plain": [
       "member_casual           casual    member\n",
       "rideable_type Season                    \n",
       "classic_bike  Fall    128346.0  306493.0\n",
       "              Spring  124207.0  275190.0\n",
       "              Summer  282103.0  442638.0\n",
       "              Winter   27950.0  138531.0\n",
       "docked_bike   Fall     17279.0       NaN\n",
       "              Spring   19136.0       NaN\n",
       "              Summer   34532.0       NaN\n",
       "              Winter    3125.0       NaN\n",
       "electric_bike Fall    140160.0  194688.0\n",
       "              Spring   77304.0  129645.0\n",
       "              Summer  211014.0  212553.0\n",
       "              Winter   31783.0   83916.0"
      ]
     },
     "execution_count": 52,
     "metadata": {},
     "output_type": "execute_result"
    }
   ],
   "source": [
    "# most popular bikes during summer\n",
    "seasonal_bikes = df.pivot_table(index = ['rideable_type', 'Season'],values = 'ride_id', columns =['member_casual'], aggfunc = 'count')\n",
    "seasonal_bikes "
   ]
  },
  {
   "cell_type": "markdown",
   "metadata": {},
   "source": [
    " The top most popular bike in the summer is the classic_bike for both ride groups. However the electric bike is popular in both groups in the summer as the diffence is minimal (1539) bike count compared to the total bike count for both groups."
   ]
  },
  {
   "cell_type": "markdown",
   "metadata": {},
   "source": [
    "## Weekend vs Weekday Rides"
   ]
  },
  {
   "cell_type": "code",
   "execution_count": 53,
   "metadata": {},
   "outputs": [
    {
     "data": {
      "text/html": [
       "<div>\n",
       "<style scoped>\n",
       "    .dataframe tbody tr th:only-of-type {\n",
       "        vertical-align: middle;\n",
       "    }\n",
       "\n",
       "    .dataframe tbody tr th {\n",
       "        vertical-align: top;\n",
       "    }\n",
       "\n",
       "    .dataframe thead th {\n",
       "        text-align: right;\n",
       "    }\n",
       "</style>\n",
       "<table border=\"1\" class=\"dataframe\">\n",
       "  <thead>\n",
       "    <tr style=\"text-align: right;\">\n",
       "      <th>member_casual</th>\n",
       "      <th>casual</th>\n",
       "      <th>member</th>\n",
       "    </tr>\n",
       "    <tr>\n",
       "      <th>DayTypes</th>\n",
       "      <th></th>\n",
       "      <th></th>\n",
       "    </tr>\n",
       "  </thead>\n",
       "  <tbody>\n",
       "    <tr>\n",
       "      <th>Weekends</th>\n",
       "      <td>395716</td>\n",
       "      <td>424704</td>\n",
       "    </tr>\n",
       "    <tr>\n",
       "      <th>Workdays</th>\n",
       "      <td>701223</td>\n",
       "      <td>1358950</td>\n",
       "    </tr>\n",
       "  </tbody>\n",
       "</table>\n",
       "</div>"
      ],
      "text/plain": [
       "member_casual  casual   member\n",
       "DayTypes                      \n",
       "Weekends       395716   424704\n",
       "Workdays       701223  1358950"
      ]
     },
     "execution_count": 53,
     "metadata": {},
     "output_type": "execute_result"
    }
   ],
   "source": [
    "# Busiest Months\n",
    "weekend_weekday_rides = df.pivot_table(index = ['DayTypes'],values = 'ride_id', columns =['member_casual'], aggfunc = 'count')\n",
    "weekend_weekday_rides"
   ]
  },
  {
   "cell_type": "code",
   "execution_count": 54,
   "metadata": {},
   "outputs": [
    {
     "data": {
      "image/png": "[encoded data removed]",
      "text/plain": [
       "<Figure size 720x576 with 1 Axes>"
      ]
     },
     "metadata": {
      "needs_background": "light"
     },
     "output_type": "display_data"
    }
   ],
   "source": [
    "weekend_weekday_rides.plot(kind='bar',figsize=(10,8))\n",
    "plt.savefig(\"Barplot:Compare Rides by Weekend vs Weekday\")\n",
    "plt.title('\\nRides by Hour of Day\\n', fontsize=20)\n",
    "plt.show();"
   ]
  },
  {
   "cell_type": "markdown",
   "metadata": {},
   "source": [
    "## Average distance btn stations (miles)"
   ]
  },
  {
   "cell_type": "code",
   "execution_count": 55,
   "metadata": {},
   "outputs": [
    {
     "data": {
      "text/html": [
       "<div>\n",
       "<style scoped>\n",
       "    .dataframe tbody tr th:only-of-type {\n",
       "        vertical-align: middle;\n",
       "    }\n",
       "\n",
       "    .dataframe tbody tr th {\n",
       "        vertical-align: top;\n",
       "    }\n",
       "\n",
       "    .dataframe thead th {\n",
       "        text-align: right;\n",
       "    }\n",
       "</style>\n",
       "<table border=\"1\" class=\"dataframe\">\n",
       "  <thead>\n",
       "    <tr style=\"text-align: right;\">\n",
       "      <th></th>\n",
       "      <th>distance</th>\n",
       "    </tr>\n",
       "    <tr>\n",
       "      <th>member_casual</th>\n",
       "      <th></th>\n",
       "    </tr>\n",
       "  </thead>\n",
       "  <tbody>\n",
       "    <tr>\n",
       "      <th>casual</th>\n",
       "      <td>1.206371</td>\n",
       "    </tr>\n",
       "    <tr>\n",
       "      <th>member</th>\n",
       "      <td>1.155976</td>\n",
       "    </tr>\n",
       "  </tbody>\n",
       "</table>\n",
       "</div>"
      ],
      "text/plain": [
       "               distance\n",
       "member_casual          \n",
       "casual         1.206371\n",
       "member         1.155976"
      ]
     },
     "execution_count": 55,
     "metadata": {},
     "output_type": "execute_result"
    }
   ],
   "source": [
    "# average distance\n",
    "avg_ride_distance = df.pivot_table(index=['member_casual'],values='distance')\n",
    "avg_ride_distance"
   ]
  },
  {
   "cell_type": "code",
   "execution_count": 58,
   "metadata": {},
   "outputs": [
    {
     "data": {
      "text/plain": [
       "<Figure size 1440x576 with 0 Axes>"
      ]
     },
     "metadata": {},
     "output_type": "display_data"
    },
    {
     "data": {
      "image/png": "[encoded data removed]",
      "text/plain": [
       "<Figure size 360x360 with 1 Axes>"
      ]
     },
     "metadata": {
      "needs_background": "light"
     },
     "output_type": "display_data"
    }
   ],
   "source": [
    "# Distribution of Distance (miles)\n",
    "fig = plt.figure(figsize =(20, 8))\n",
    "sns.displot(data=df, x='distance',kde=True)\n",
    "plt.xlabel('Distance(miles)')\n",
    "plt.title('Distribution Distance (miles)')\n",
    "plt.ylabel('Frequency')\n",
    "plt.savefig(\"Displot:Distribution of Distance (miles).png\")\n",
    "plt.show();\n",
    "#sns.displot(data=df, x='distance',kde=True, hue='member_casual', multiple=\"stack\");"
   ]
  },
  {
   "cell_type": "code",
   "execution_count": 57,
   "metadata": {},
   "outputs": [],
   "source": [
    "#df.to_csv('/Users/phoebenamyalo/Desktop/Google Portfolio Project/csv_new/cyclist-bikeshare-dataset-clean.csv')"
   ]
  }
 ],
 "metadata": {
  "kernelspec": {
   "display_name": "Python 3",
   "language": "python",
   "name": "python3"
  },
  "language_info": {
   "codemirror_mode": {
    "name": "ipython",
    "version": 3
   },
   "file_extension": ".py",
   "mimetype": "text/x-python",
   "name": "python",
   "nbconvert_exporter": "python",
   "pygments_lexer": "ipython3",
   "version": "3.8.5"
  }
 },
 "nbformat": 4,
 "nbformat_minor": 4
}
